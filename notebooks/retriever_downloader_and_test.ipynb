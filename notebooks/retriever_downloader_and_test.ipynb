{
  "cells": [
    {
      "cell_type": "markdown",
      "metadata": {},
      "source": [
        "# Just testing"
      ]
    },
    {
      "cell_type": "code",
      "execution_count": null,
      "metadata": {
        "id": "ewT1oe7_w16H"
      },
      "outputs": [],
      "source": [
        "!wget http://images.cocodataset.org/zips/train2014.zip"
      ]
    },
    {
      "cell_type": "code",
      "execution_count": null,
      "metadata": {
        "id": "T_RaTu5Yw-tt"
      },
      "outputs": [],
      "source": [
        "!wget http://images.cocodataset.org/annotations/annotations_trainval2014.zip"
      ]
    },
    {
      "cell_type": "code",
      "execution_count": null,
      "metadata": {
        "id": "a7fzTa1FxAUv"
      },
      "outputs": [],
      "source": [
        "!unzip train2014.zip"
      ]
    },
    {
      "cell_type": "code",
      "execution_count": null,
      "metadata": {
        "id": "fYGnPFJ0xBgz"
      },
      "outputs": [],
      "source": [
        "!unzip annotations_trainval2014.zip"
      ]
    },
    {
      "cell_type": "code",
      "execution_count": null,
      "metadata": {
        "colab": {
          "base_uri": "https://localhost:8080/"
        },
        "id": "8NknvdE1xEPO",
        "outputId": "d41994b8-2dd0-49b6-9215-bee03486763b"
      },
      "outputs": [
        {
          "name": "stdout",
          "output_type": "stream",
          "text": [
            "Requirement already satisfied: open_clip_torch in /usr/local/lib/python3.10/dist-packages (2.24.0)\n",
            "Requirement already satisfied: transformers==4.38.2 in /usr/local/lib/python3.10/dist-packages (4.38.2)\n",
            "Requirement already satisfied: filelock in /usr/local/lib/python3.10/dist-packages (from transformers==4.38.2) (3.14.0)\n",
            "Requirement already satisfied: huggingface-hub<1.0,>=0.19.3 in /usr/local/lib/python3.10/dist-packages (from transformers==4.38.2) (0.20.3)\n",
            "Requirement already satisfied: numpy>=1.17 in /usr/local/lib/python3.10/dist-packages (from transformers==4.38.2) (1.25.2)\n",
            "Requirement already satisfied: packaging>=20.0 in /usr/local/lib/python3.10/dist-packages (from transformers==4.38.2) (24.0)\n",
            "Requirement already satisfied: pyyaml>=5.1 in /usr/local/lib/python3.10/dist-packages (from transformers==4.38.2) (6.0.1)\n",
            "Requirement already satisfied: regex!=2019.12.17 in /usr/local/lib/python3.10/dist-packages (from transformers==4.38.2) (2023.12.25)\n",
            "Requirement already satisfied: requests in /usr/local/lib/python3.10/dist-packages (from transformers==4.38.2) (2.31.0)\n",
            "Requirement already satisfied: tokenizers<0.19,>=0.14 in /usr/local/lib/python3.10/dist-packages (from transformers==4.38.2) (0.15.2)\n",
            "Requirement already satisfied: safetensors>=0.4.1 in /usr/local/lib/python3.10/dist-packages (from transformers==4.38.2) (0.4.3)\n",
            "Requirement already satisfied: tqdm>=4.27 in /usr/local/lib/python3.10/dist-packages (from transformers==4.38.2) (4.66.2)\n",
            "Requirement already satisfied: torch>=1.9.0 in /usr/local/lib/python3.10/dist-packages (from open_clip_torch) (2.2.1+cu121)\n",
            "Requirement already satisfied: torchvision in /usr/local/lib/python3.10/dist-packages (from open_clip_torch) (0.17.1+cu121)\n",
            "Requirement already satisfied: ftfy in /usr/local/lib/python3.10/dist-packages (from open_clip_torch) (6.2.0)\n",
            "Requirement already satisfied: sentencepiece in /usr/local/lib/python3.10/dist-packages (from open_clip_torch) (0.1.99)\n",
            "Requirement already satisfied: protobuf in /usr/local/lib/python3.10/dist-packages (from open_clip_torch) (3.20.3)\n",
            "Requirement already satisfied: timm in /usr/local/lib/python3.10/dist-packages (from open_clip_torch) (0.9.16)\n",
            "Requirement already satisfied: fsspec>=2023.5.0 in /usr/local/lib/python3.10/dist-packages (from huggingface-hub<1.0,>=0.19.3->transformers==4.38.2) (2023.6.0)\n",
            "Requirement already satisfied: typing-extensions>=3.7.4.3 in /usr/local/lib/python3.10/dist-packages (from huggingface-hub<1.0,>=0.19.3->transformers==4.38.2) (4.11.0)\n",
            "Requirement already satisfied: sympy in /usr/local/lib/python3.10/dist-packages (from torch>=1.9.0->open_clip_torch) (1.12)\n",
            "Requirement already satisfied: networkx in /usr/local/lib/python3.10/dist-packages (from torch>=1.9.0->open_clip_torch) (3.3)\n",
            "Requirement already satisfied: jinja2 in /usr/local/lib/python3.10/dist-packages (from torch>=1.9.0->open_clip_torch) (3.1.3)\n",
            "Requirement already satisfied: nvidia-cuda-nvrtc-cu12==12.1.105 in /usr/local/lib/python3.10/dist-packages (from torch>=1.9.0->open_clip_torch) (12.1.105)\n",
            "Requirement already satisfied: nvidia-cuda-runtime-cu12==12.1.105 in /usr/local/lib/python3.10/dist-packages (from torch>=1.9.0->open_clip_torch) (12.1.105)\n",
            "Requirement already satisfied: nvidia-cuda-cupti-cu12==12.1.105 in /usr/local/lib/python3.10/dist-packages (from torch>=1.9.0->open_clip_torch) (12.1.105)\n",
            "Requirement already satisfied: nvidia-cudnn-cu12==8.9.2.26 in /usr/local/lib/python3.10/dist-packages (from torch>=1.9.0->open_clip_torch) (8.9.2.26)\n",
            "Requirement already satisfied: nvidia-cublas-cu12==12.1.3.1 in /usr/local/lib/python3.10/dist-packages (from torch>=1.9.0->open_clip_torch) (12.1.3.1)\n",
            "Requirement already satisfied: nvidia-cufft-cu12==11.0.2.54 in /usr/local/lib/python3.10/dist-packages (from torch>=1.9.0->open_clip_torch) (11.0.2.54)\n",
            "Requirement already satisfied: nvidia-curand-cu12==10.3.2.106 in /usr/local/lib/python3.10/dist-packages (from torch>=1.9.0->open_clip_torch) (10.3.2.106)\n",
            "Requirement already satisfied: nvidia-cusolver-cu12==11.4.5.107 in /usr/local/lib/python3.10/dist-packages (from torch>=1.9.0->open_clip_torch) (11.4.5.107)\n",
            "Requirement already satisfied: nvidia-cusparse-cu12==12.1.0.106 in /usr/local/lib/python3.10/dist-packages (from torch>=1.9.0->open_clip_torch) (12.1.0.106)\n",
            "Requirement already satisfied: nvidia-nccl-cu12==2.19.3 in /usr/local/lib/python3.10/dist-packages (from torch>=1.9.0->open_clip_torch) (2.19.3)\n",
            "Requirement already satisfied: nvidia-nvtx-cu12==12.1.105 in /usr/local/lib/python3.10/dist-packages (from torch>=1.9.0->open_clip_torch) (12.1.105)\n",
            "Requirement already satisfied: triton==2.2.0 in /usr/local/lib/python3.10/dist-packages (from torch>=1.9.0->open_clip_torch) (2.2.0)\n",
            "Requirement already satisfied: nvidia-nvjitlink-cu12 in /usr/local/lib/python3.10/dist-packages (from nvidia-cusolver-cu12==11.4.5.107->torch>=1.9.0->open_clip_torch) (12.4.127)\n",
            "Requirement already satisfied: wcwidth<0.3.0,>=0.2.12 in /usr/local/lib/python3.10/dist-packages (from ftfy->open_clip_torch) (0.2.13)\n",
            "Requirement already satisfied: charset-normalizer<4,>=2 in /usr/local/lib/python3.10/dist-packages (from requests->transformers==4.38.2) (3.3.2)\n",
            "Requirement already satisfied: idna<4,>=2.5 in /usr/local/lib/python3.10/dist-packages (from requests->transformers==4.38.2) (3.7)\n",
            "Requirement already satisfied: urllib3<3,>=1.21.1 in /usr/local/lib/python3.10/dist-packages (from requests->transformers==4.38.2) (2.0.7)\n",
            "Requirement already satisfied: certifi>=2017.4.17 in /usr/local/lib/python3.10/dist-packages (from requests->transformers==4.38.2) (2024.2.2)\n",
            "Requirement already satisfied: pillow!=8.3.*,>=5.3.0 in /usr/local/lib/python3.10/dist-packages (from torchvision->open_clip_torch) (9.4.0)\n",
            "Requirement already satisfied: MarkupSafe>=2.0 in /usr/local/lib/python3.10/dist-packages (from jinja2->torch>=1.9.0->open_clip_torch) (2.1.5)\n",
            "Requirement already satisfied: mpmath>=0.19 in /usr/local/lib/python3.10/dist-packages (from sympy->torch>=1.9.0->open_clip_torch) (1.3.0)\n"
          ]
        }
      ],
      "source": [
        "!pip install open_clip_torch transformers==4.38.2"
      ]
    },
    {
      "cell_type": "code",
      "execution_count": 5,
      "metadata": {
        "colab": {
          "base_uri": "https://localhost:8080/",
          "height": 393
        },
        "id": "J9Dp_nP-TMmo",
        "outputId": "74ce2f1e-a5f3-4cfb-f7e8-7be091f8f97b"
      },
      "outputs": [],
      "source": [
        "import tqdm.notebook as tqdm\n",
        "from IPython.display import Image\n",
        "import json\n",
        "import pickle\n",
        "import glob\n",
        "import os\n",
        "import open_clip\n",
        "import torch\n",
        "from PIL import Image\n",
        "import numpy as np\n",
        "from collections import defaultdict"
      ]
    },
    {
      "cell_type": "code",
      "execution_count": 4,
      "metadata": {
        "colab": {
          "base_uri": "https://localhost:8080/",
          "height": 35
        },
        "id": "eadjMrxvNmGw",
        "outputId": "db880d41-8778-442c-ae96-aa6abcf01af8"
      },
      "outputs": [
        {
          "data": {
            "text/plain": [
              "['train2014\\\\train2014']"
            ]
          },
          "execution_count": 4,
          "metadata": {},
          "output_type": "execute_result"
        }
      ],
      "source": [
        "image_path = glob.glob(\"train2014/*\")[1]\n",
        "image_path"
      ]
    },
    {
      "cell_type": "code",
      "execution_count": null,
      "metadata": {
        "id": "Nves7e8s5deF"
      },
      "outputs": [],
      "source": [
        "caption_path = '/content/annotations/captions_train2014.json'\n",
        "f = open(caption_path)\n",
        "data = json.load(f)"
      ]
    },
    {
      "cell_type": "code",
      "execution_count": null,
      "metadata": {
        "id": "h5IHZ1P557E5"
      },
      "outputs": [],
      "source": [
        "dict_filename = {}\n",
        "for image in data['images']:\n",
        "  dict_filename[image['id']] = image['file_name']"
      ]
    },
    {
      "cell_type": "code",
      "execution_count": null,
      "metadata": {
        "colab": {
          "base_uri": "https://localhost:8080/",
          "height": 49,
          "referenced_widgets": [
            "3f8bdf05e37a4aa4be1f310961168c3e",
            "291be208a8604d8c9f521d426ecdd7e2",
            "7e11c0a67802474390367910a2421eab",
            "56571f089a7a474fa831b1ff5d847eba",
            "f0790ddd08b54f2e9d8978dfb7f925bf",
            "8546116ba11a49ab89bb1d74c92b5457",
            "86866cc0214d4f2291093ea38dab6b82",
            "a01abbc5bb1b4a60a2eda8d2b191e1c5",
            "f1c932e9b367421db00b7aa1315e9f23",
            "f5ba898a87f64606b24d92e55bcf3879",
            "0417312dcd29476fa5a31b920c5857d8"
          ]
        },
        "id": "IrNOKOXe7Qe5",
        "outputId": "8b904dae-a013-4ce1-cdfe-781c6d8fabfc"
      },
      "outputs": [
        {
          "data": {
            "application/vnd.jupyter.widget-view+json": {
              "model_id": "3f8bdf05e37a4aa4be1f310961168c3e",
              "version_major": 2,
              "version_minor": 0
            },
            "text/plain": [
              "  0%|          | 0/414113 [00:00<?, ?it/s]"
            ]
          },
          "metadata": {},
          "output_type": "display_data"
        }
      ],
      "source": [
        "dict_caption = defaultdict(list)\n",
        "for caption in tqdm.tqdm(data['annotations']):\n",
        "  dict_caption[dict_filename[caption['image_id']]].append(caption['caption'])"
      ]
    },
    {
      "cell_type": "code",
      "execution_count": null,
      "metadata": {
        "id": "KArHE9A293RG"
      },
      "outputs": [],
      "source": [
        "with open('image_name_2_captions.pickle', 'wb') as handle:\n",
        "    pickle.dump(dict_caption, handle, protocol=pickle.HIGHEST_PROTOCOL)"
      ]
    },
    {
      "cell_type": "code",
      "execution_count": null,
      "metadata": {
        "id": "EJY6ukMGM6Za"
      },
      "outputs": [],
      "source": [
        "!cp image_name_2_captions.pickle drive/MyDrive/ECE285/image_name_2_captions.pickle"
      ]
    },
    {
      "cell_type": "markdown",
      "metadata": {
        "id": "oqw0lGPnNoNl"
      },
      "source": [
        "# Preparing Embeddings"
      ]
    },
    {
      "cell_type": "code",
      "execution_count": null,
      "metadata": {
        "colab": {
          "base_uri": "https://localhost:8080/"
        },
        "id": "7Fuvxi-dLvEj",
        "outputId": "095ff501-68f6-462d-b2d1-7ea2e2e41d66"
      },
      "outputs": [
        {
          "name": "stdout",
          "output_type": "stream",
          "text": [
            "Mounted at /content/drive\n"
          ]
        }
      ],
      "source": [
        "from google.colab import drive\n",
        "drive.mount('/content/drive')"
      ]
    },
    {
      "cell_type": "code",
      "execution_count": 2,
      "metadata": {
        "id": "TGZEjH67OJUs"
      },
      "outputs": [],
      "source": [
        "# Check if the file exists and is not empty\n",
        "if os.path.exists(\"image_name_2_captions.pickle\") and os.path.getsize(\"image_name_2_captions.pickle\") > 0:\n",
        "    with open(\"image_name_2_captions.pickle\", mode='rb') as input_file:\n",
        "        dict_caption = pickle.load(input_file)\n",
        "else:\n",
        "    print(\"The file is empty. Skipping loading data.\")"
      ]
    },
    {
      "cell_type": "code",
      "execution_count": 3,
      "metadata": {
        "colab": {
          "base_uri": "https://localhost:8080/"
        },
        "id": "1C6s0b14Am82",
        "outputId": "6f31ae37-534e-4b35-9478-9195ac29b5b6"
      },
      "outputs": [
        {
          "data": {
            "text/plain": [
              "['A black-and-white photo of a baseball team together.',\n",
              " 'A baseball team by the name of \"proctor\" on the uniform, seated for a team photo.',\n",
              " 'Black and white photo of a baseball team.',\n",
              " 'A team of baseball players are posing for a group picture.',\n",
              " 'A baseball team sitting next to each other in a pyramid holding bats.']"
            ]
          },
          "execution_count": 3,
          "metadata": {},
          "output_type": "execute_result"
        }
      ],
      "source": [
        "dict_caption['COCO_train2014_000000282069.jpg']"
      ]
    },
    {
      "cell_type": "code",
      "execution_count": 4,
      "metadata": {
        "id": "1foonOLsxG_a"
      },
      "outputs": [],
      "source": [
        "model, _, transform = open_clip.create_model_and_transforms(\n",
        "  model_name=\"coca_ViT-L-14\",\n",
        "  pretrained=\"mscoco_finetuned_laion2B-s13B-b90k\"\n",
        ")\n",
        "\n",
        "model = model.cuda()\n",
        "tokenizer = open_clip.get_tokenizer('coca_ViT-L-14')"
      ]
    },
    {
      "cell_type": "code",
      "execution_count": 8,
      "metadata": {},
      "outputs": [
        {
          "name": "stderr",
          "output_type": "stream",
          "text": [
            "c:\\Users\\anand\\AppData\\Local\\Programs\\Python\\Python311\\Lib\\site-packages\\huggingface_hub\\file_download.py:1132: FutureWarning: `resume_download` is deprecated and will be removed in version 1.0.0. Downloads always resume when possible. If you want to force a new download, use `force_download=True`.\n",
            "  warnings.warn(\n"
          ]
        },
        {
          "data": {
            "text/plain": [
              "BartForConditionalGeneration(\n",
              "  (model): BartModel(\n",
              "    (shared): Embedding(50265, 1024, padding_idx=1)\n",
              "    (encoder): BartEncoder(\n",
              "      (embed_tokens): Embedding(50265, 1024, padding_idx=1)\n",
              "      (embed_positions): BartLearnedPositionalEmbedding(1026, 1024)\n",
              "      (layers): ModuleList(\n",
              "        (0-11): 12 x BartEncoderLayer(\n",
              "          (self_attn): BartSdpaAttention(\n",
              "            (k_proj): Linear(in_features=1024, out_features=1024, bias=True)\n",
              "            (v_proj): Linear(in_features=1024, out_features=1024, bias=True)\n",
              "            (q_proj): Linear(in_features=1024, out_features=1024, bias=True)\n",
              "            (out_proj): Linear(in_features=1024, out_features=1024, bias=True)\n",
              "          )\n",
              "          (self_attn_layer_norm): LayerNorm((1024,), eps=1e-05, elementwise_affine=True)\n",
              "          (activation_fn): GELUActivation()\n",
              "          (fc1): Linear(in_features=1024, out_features=4096, bias=True)\n",
              "          (fc2): Linear(in_features=4096, out_features=1024, bias=True)\n",
              "          (final_layer_norm): LayerNorm((1024,), eps=1e-05, elementwise_affine=True)\n",
              "        )\n",
              "      )\n",
              "      (layernorm_embedding): LayerNorm((1024,), eps=1e-05, elementwise_affine=True)\n",
              "    )\n",
              "    (decoder): BartDecoder(\n",
              "      (embed_tokens): Embedding(50265, 1024, padding_idx=1)\n",
              "      (embed_positions): BartLearnedPositionalEmbedding(1026, 1024)\n",
              "      (layers): ModuleList(\n",
              "        (0-11): 12 x BartDecoderLayer(\n",
              "          (self_attn): BartSdpaAttention(\n",
              "            (k_proj): Linear(in_features=1024, out_features=1024, bias=True)\n",
              "            (v_proj): Linear(in_features=1024, out_features=1024, bias=True)\n",
              "            (q_proj): Linear(in_features=1024, out_features=1024, bias=True)\n",
              "            (out_proj): Linear(in_features=1024, out_features=1024, bias=True)\n",
              "          )\n",
              "          (activation_fn): GELUActivation()\n",
              "          (self_attn_layer_norm): LayerNorm((1024,), eps=1e-05, elementwise_affine=True)\n",
              "          (encoder_attn): BartSdpaAttention(\n",
              "            (k_proj): Linear(in_features=1024, out_features=1024, bias=True)\n",
              "            (v_proj): Linear(in_features=1024, out_features=1024, bias=True)\n",
              "            (q_proj): Linear(in_features=1024, out_features=1024, bias=True)\n",
              "            (out_proj): Linear(in_features=1024, out_features=1024, bias=True)\n",
              "          )\n",
              "          (encoder_attn_layer_norm): LayerNorm((1024,), eps=1e-05, elementwise_affine=True)\n",
              "          (fc1): Linear(in_features=1024, out_features=4096, bias=True)\n",
              "          (fc2): Linear(in_features=4096, out_features=1024, bias=True)\n",
              "          (final_layer_norm): LayerNorm((1024,), eps=1e-05, elementwise_affine=True)\n",
              "        )\n",
              "      )\n",
              "      (layernorm_embedding): LayerNorm((1024,), eps=1e-05, elementwise_affine=True)\n",
              "    )\n",
              "  )\n",
              "  (lm_head): Linear(in_features=1024, out_features=50265, bias=False)\n",
              ")"
            ]
          },
          "execution_count": 8,
          "metadata": {},
          "output_type": "execute_result"
        }
      ],
      "source": [
        "from transformers import BartForConditionalGeneration, BartTokenizer\n",
        "\n",
        "text_model = BartForConditionalGeneration.from_pretrained(\"facebook/bart-large\")\n",
        "text_tok = BartTokenizer.from_pretrained(\"facebook/bart-large\")\n",
        "\n",
        "text_model = text_model.to(\"cuda\")\n",
        "text_model.eval()\n",
        "\n",
        "\n",
        "# batch = tokenizer(example_english_phrase, return_tensors=\"pt\")\n",
        "# input_ids = batch[\"input_ids\"]\n",
        "\n",
        "# # Pass through the encoder\n",
        "# encoder_outputs = model.model.encoder(input_ids)"
      ]
    },
    {
      "cell_type": "code",
      "execution_count": 9,
      "metadata": {},
      "outputs": [],
      "source": [
        "def get_text_embeddings(texts):\n",
        "    tokens = text_tok(texts, return_tensors=\"pt\", padding='max_length', truncation=True, max_length=32)[\"input_ids\"].cuda()\n",
        "    text_embedding = text_model.model.encoder(tokens).last_hidden_state\n",
        "    return text_embedding.cpu().detach().numpy()"
      ]
    },
    {
      "cell_type": "code",
      "execution_count": 10,
      "metadata": {},
      "outputs": [],
      "source": [
        "#caption_dict\n",
        "with open('image_name.pickle', 'rb') as handle:\n",
        "    max_caption_dict = pickle.load(handle)"
      ]
    },
    {
      "cell_type": "code",
      "execution_count": 15,
      "metadata": {
        "colab": {
          "base_uri": "https://localhost:8080/",
          "height": 49,
          "referenced_widgets": [
            "b6fa2edba86443e0bb7d5f8d96f1f70c",
            "b83875f52a814f109f289dc31705d5b6",
            "fe0b3e08c7d04a6faaf19c7fdb4ffa02",
            "9eab4421648e4f02af1b47f24e1c3383",
            "0897f1d748f54934b32b14f0607c5c87",
            "443766238f454b4f93770e12f17f7c3d",
            "b623980240ab4f65b4825246005ad6f0",
            "972009fc2b1a41ac946f5f5d634df8cb",
            "9f9465ef83934013b5664489121b24e7",
            "88d72be76b644615a12f361dc364e45a",
            "e724fd6ab84b41fda9e7e1563857f32e"
          ]
        },
        "id": "Ui2-xNDaBdeh",
        "outputId": "850aca93-9ad2-4b28-c3df-63af0d2e2f8d"
      },
      "outputs": [
        {
          "data": {
            "application/vnd.jupyter.widget-view+json": {
              "model_id": "46098fdbeddb4ab59268ea1b849f6ff0",
              "version_major": 2,
              "version_minor": 0
            },
            "text/plain": [
              "  0%|          | 0/82783 [00:00<?, ?it/s]"
            ]
          },
          "metadata": {},
          "output_type": "display_data"
        }
      ],
      "source": [
        "path = \"train2014/train2014/\"\n",
        "save_path = \"dataset/train_emb/\"\n",
        "img_name_array = []\n",
        "img_array = []\n",
        "text_array = []\n",
        "sizes = []\n",
        "for image,captions in tqdm.tqdm(dict_caption.items()):\n",
        "  if os.path.isfile(save_path +image.split('.')[0]+'.npz'):\n",
        "    continue\n",
        "  im = Image.open(path+image).convert(\"RGB\")\n",
        "  im = transform(im).unsqueeze(0).cuda()\n",
        "  \n",
        "  img_name_array.append(image)\n",
        "  img_array.append(im)\n",
        "  sizes.append(len(captions))\n",
        "  text_array.append(captions[max_caption_dict['train_emb/'+image.split('.')[0]+'.npy']])\n",
        "\n",
        "  if len(img_name_array) == 4:\n",
        "    img = torch.cat(img_array)\n",
        "    with torch.no_grad(), torch.cuda.amp.autocast():\n",
        "      image_emb = model.encode_image(img).cpu().numpy()\n",
        "      text_emb = get_text_embeddings(text_array)\n",
        "\n",
        "    start_idx = 0\n",
        "    for i in range(len(img_name_array)):\n",
        "      size = sizes[i]\n",
        "      np.savez(save_path +img_name_array[i].split('.')[0]+'.npz', img=image_emb[i], txt=text_emb[start_idx:start_idx+size])\n",
        "      start_idx += size\n",
        "    img_name_array = []\n",
        "    img_array = []\n",
        "    text_array = []\n",
        "    sizes = []\n",
        "\n",
        "if len(img_name_array) > 0:\n",
        "  img = torch.cat(img_array)\n",
        "  with torch.no_grad(), torch.cuda.amp.autocast():\n",
        "    image_emb = model.encode_image(img).cpu().numpy()\n",
        "    text_emb = get_text_embeddings(text_array)\n",
        "\n",
        "  start_idx = 0\n",
        "  for i in range(len(img_name_array)):\n",
        "    size = sizes[i]\n",
        "    np.savez(save_path +img_name_array[i].split('.')[0]+'.npz', img=image_emb[i], txt=text_emb[start_idx:start_idx+size])\n",
        "    start_idx += size\n",
        "\n",
        "      \n",
        "\n",
        "    # np.save('dataset/train_emb/'+image.split('.')[0]+'_img.npz', image_emb)\n",
        "    # np.save('dataset/train_emb/'+image.split('.')[0]+'_txt.npz', text_emb)"
      ]
    },
    {
      "cell_type": "code",
      "execution_count": null,
      "metadata": {
        "id": "ls6xDk_UMsfd"
      },
      "outputs": [],
      "source": [
        "import glob"
      ]
    },
    {
      "cell_type": "code",
      "execution_count": null,
      "metadata": {
        "colab": {
          "base_uri": "https://localhost:8080/"
        },
        "id": "oF1ZotYSbXjO",
        "outputId": "b5e9a3ef-4f3b-45c4-bd8d-0ddbcf241588"
      },
      "outputs": [
        {
          "name": "stdout",
          "output_type": "stream",
          "text": [
            "48978\n"
          ]
        }
      ],
      "source": [
        "ls train_emb | wc -l"
      ]
    },
    {
      "cell_type": "code",
      "execution_count": null,
      "metadata": {
        "colab": {
          "base_uri": "https://localhost:8080/",
          "height": 297
        },
        "id": "Y9rdmVPLpCIZ",
        "outputId": "92ee29e6-56a4-414f-f7e2-1e8dd48af7f2"
      },
      "outputs": [
        {
          "ename": "KeyboardInterrupt",
          "evalue": "",
          "output_type": "error",
          "traceback": [
            "\u001b[0;31m---------------------------------------------------------------------------\u001b[0m",
            "\u001b[0;31mKeyboardInterrupt\u001b[0m                         Traceback (most recent call last)",
            "\u001b[0;32m<ipython-input-7-982741a04d71>\u001b[0m in \u001b[0;36m<cell line: 1>\u001b[0;34m()\u001b[0m\n\u001b[0;32m----> 1\u001b[0;31m \u001b[0mtmp\u001b[0m \u001b[0;34m=\u001b[0m \u001b[0mglob\u001b[0m\u001b[0;34m.\u001b[0m\u001b[0mglob\u001b[0m\u001b[0;34m(\u001b[0m\u001b[0;34m'train_emb/*'\u001b[0m\u001b[0;34m)\u001b[0m\u001b[0;34m\u001b[0m\u001b[0;34m\u001b[0m\u001b[0m\n\u001b[0m",
            "\u001b[0;32m/usr/lib/python3.10/glob.py\u001b[0m in \u001b[0;36mglob\u001b[0;34m(pathname, root_dir, dir_fd, recursive)\u001b[0m\n\u001b[1;32m     22\u001b[0m     \u001b[0mzero\u001b[0m \u001b[0;32mor\u001b[0m \u001b[0mmore\u001b[0m \u001b[0mdirectories\u001b[0m \u001b[0;32mand\u001b[0m \u001b[0msubdirectories\u001b[0m\u001b[0;34m.\u001b[0m\u001b[0;34m\u001b[0m\u001b[0;34m\u001b[0m\u001b[0m\n\u001b[1;32m     23\u001b[0m     \"\"\"\n\u001b[0;32m---> 24\u001b[0;31m     \u001b[0;32mreturn\u001b[0m \u001b[0mlist\u001b[0m\u001b[0;34m(\u001b[0m\u001b[0miglob\u001b[0m\u001b[0;34m(\u001b[0m\u001b[0mpathname\u001b[0m\u001b[0;34m,\u001b[0m \u001b[0mroot_dir\u001b[0m\u001b[0;34m=\u001b[0m\u001b[0mroot_dir\u001b[0m\u001b[0;34m,\u001b[0m \u001b[0mdir_fd\u001b[0m\u001b[0;34m=\u001b[0m\u001b[0mdir_fd\u001b[0m\u001b[0;34m,\u001b[0m \u001b[0mrecursive\u001b[0m\u001b[0;34m=\u001b[0m\u001b[0mrecursive\u001b[0m\u001b[0;34m)\u001b[0m\u001b[0;34m)\u001b[0m\u001b[0;34m\u001b[0m\u001b[0;34m\u001b[0m\u001b[0m\n\u001b[0m\u001b[1;32m     25\u001b[0m \u001b[0;34m\u001b[0m\u001b[0m\n\u001b[1;32m     26\u001b[0m \u001b[0;32mdef\u001b[0m \u001b[0miglob\u001b[0m\u001b[0;34m(\u001b[0m\u001b[0mpathname\u001b[0m\u001b[0;34m,\u001b[0m \u001b[0;34m*\u001b[0m\u001b[0;34m,\u001b[0m \u001b[0mroot_dir\u001b[0m\u001b[0;34m=\u001b[0m\u001b[0;32mNone\u001b[0m\u001b[0;34m,\u001b[0m \u001b[0mdir_fd\u001b[0m\u001b[0;34m=\u001b[0m\u001b[0;32mNone\u001b[0m\u001b[0;34m,\u001b[0m \u001b[0mrecursive\u001b[0m\u001b[0;34m=\u001b[0m\u001b[0;32mFalse\u001b[0m\u001b[0;34m)\u001b[0m\u001b[0;34m:\u001b[0m\u001b[0;34m\u001b[0m\u001b[0;34m\u001b[0m\u001b[0m\n",
            "\u001b[0;32m/usr/lib/python3.10/glob.py\u001b[0m in \u001b[0;36m_iglob\u001b[0;34m(pathname, root_dir, dir_fd, recursive, dironly)\u001b[0m\n\u001b[1;32m     84\u001b[0m         \u001b[0mglob_in_dir\u001b[0m \u001b[0;34m=\u001b[0m \u001b[0m_glob0\u001b[0m\u001b[0;34m\u001b[0m\u001b[0;34m\u001b[0m\u001b[0m\n\u001b[1;32m     85\u001b[0m     \u001b[0;32mfor\u001b[0m \u001b[0mdirname\u001b[0m \u001b[0;32min\u001b[0m \u001b[0mdirs\u001b[0m\u001b[0;34m:\u001b[0m\u001b[0;34m\u001b[0m\u001b[0;34m\u001b[0m\u001b[0m\n\u001b[0;32m---> 86\u001b[0;31m         \u001b[0;32mfor\u001b[0m \u001b[0mname\u001b[0m \u001b[0;32min\u001b[0m \u001b[0mglob_in_dir\u001b[0m\u001b[0;34m(\u001b[0m\u001b[0m_join\u001b[0m\u001b[0;34m(\u001b[0m\u001b[0mroot_dir\u001b[0m\u001b[0;34m,\u001b[0m \u001b[0mdirname\u001b[0m\u001b[0;34m)\u001b[0m\u001b[0;34m,\u001b[0m \u001b[0mbasename\u001b[0m\u001b[0;34m,\u001b[0m \u001b[0mdir_fd\u001b[0m\u001b[0;34m,\u001b[0m \u001b[0mdironly\u001b[0m\u001b[0;34m)\u001b[0m\u001b[0;34m:\u001b[0m\u001b[0;34m\u001b[0m\u001b[0;34m\u001b[0m\u001b[0m\n\u001b[0m\u001b[1;32m     87\u001b[0m             \u001b[0;32myield\u001b[0m \u001b[0mos\u001b[0m\u001b[0;34m.\u001b[0m\u001b[0mpath\u001b[0m\u001b[0;34m.\u001b[0m\u001b[0mjoin\u001b[0m\u001b[0;34m(\u001b[0m\u001b[0mdirname\u001b[0m\u001b[0;34m,\u001b[0m \u001b[0mname\u001b[0m\u001b[0;34m)\u001b[0m\u001b[0;34m\u001b[0m\u001b[0;34m\u001b[0m\u001b[0m\n\u001b[1;32m     88\u001b[0m \u001b[0;34m\u001b[0m\u001b[0m\n",
            "\u001b[0;32m/usr/lib/python3.10/glob.py\u001b[0m in \u001b[0;36m_glob1\u001b[0;34m(dirname, pattern, dir_fd, dironly)\u001b[0m\n\u001b[1;32m     92\u001b[0m \u001b[0;34m\u001b[0m\u001b[0m\n\u001b[1;32m     93\u001b[0m \u001b[0;32mdef\u001b[0m \u001b[0m_glob1\u001b[0m\u001b[0;34m(\u001b[0m\u001b[0mdirname\u001b[0m\u001b[0;34m,\u001b[0m \u001b[0mpattern\u001b[0m\u001b[0;34m,\u001b[0m \u001b[0mdir_fd\u001b[0m\u001b[0;34m,\u001b[0m \u001b[0mdironly\u001b[0m\u001b[0;34m)\u001b[0m\u001b[0;34m:\u001b[0m\u001b[0;34m\u001b[0m\u001b[0;34m\u001b[0m\u001b[0m\n\u001b[0;32m---> 94\u001b[0;31m     \u001b[0mnames\u001b[0m \u001b[0;34m=\u001b[0m \u001b[0m_listdir\u001b[0m\u001b[0;34m(\u001b[0m\u001b[0mdirname\u001b[0m\u001b[0;34m,\u001b[0m \u001b[0mdir_fd\u001b[0m\u001b[0;34m,\u001b[0m \u001b[0mdironly\u001b[0m\u001b[0;34m)\u001b[0m\u001b[0;34m\u001b[0m\u001b[0;34m\u001b[0m\u001b[0m\n\u001b[0m\u001b[1;32m     95\u001b[0m     \u001b[0;32mif\u001b[0m \u001b[0;32mnot\u001b[0m \u001b[0m_ishidden\u001b[0m\u001b[0;34m(\u001b[0m\u001b[0mpattern\u001b[0m\u001b[0;34m)\u001b[0m\u001b[0;34m:\u001b[0m\u001b[0;34m\u001b[0m\u001b[0;34m\u001b[0m\u001b[0m\n\u001b[1;32m     96\u001b[0m         \u001b[0mnames\u001b[0m \u001b[0;34m=\u001b[0m \u001b[0;34m(\u001b[0m\u001b[0mx\u001b[0m \u001b[0;32mfor\u001b[0m \u001b[0mx\u001b[0m \u001b[0;32min\u001b[0m \u001b[0mnames\u001b[0m \u001b[0;32mif\u001b[0m \u001b[0;32mnot\u001b[0m \u001b[0m_ishidden\u001b[0m\u001b[0;34m(\u001b[0m\u001b[0mx\u001b[0m\u001b[0;34m)\u001b[0m\u001b[0;34m)\u001b[0m\u001b[0;34m\u001b[0m\u001b[0;34m\u001b[0m\u001b[0m\n",
            "\u001b[0;32m/usr/lib/python3.10/glob.py\u001b[0m in \u001b[0;36m_listdir\u001b[0;34m(dirname, dir_fd, dironly)\u001b[0m\n\u001b[1;32m    162\u001b[0m \u001b[0;32mdef\u001b[0m \u001b[0m_listdir\u001b[0m\u001b[0;34m(\u001b[0m\u001b[0mdirname\u001b[0m\u001b[0;34m,\u001b[0m \u001b[0mdir_fd\u001b[0m\u001b[0;34m,\u001b[0m \u001b[0mdironly\u001b[0m\u001b[0;34m)\u001b[0m\u001b[0;34m:\u001b[0m\u001b[0;34m\u001b[0m\u001b[0;34m\u001b[0m\u001b[0m\n\u001b[1;32m    163\u001b[0m     \u001b[0;32mwith\u001b[0m \u001b[0mcontextlib\u001b[0m\u001b[0;34m.\u001b[0m\u001b[0mclosing\u001b[0m\u001b[0;34m(\u001b[0m\u001b[0m_iterdir\u001b[0m\u001b[0;34m(\u001b[0m\u001b[0mdirname\u001b[0m\u001b[0;34m,\u001b[0m \u001b[0mdir_fd\u001b[0m\u001b[0;34m,\u001b[0m \u001b[0mdironly\u001b[0m\u001b[0;34m)\u001b[0m\u001b[0;34m)\u001b[0m \u001b[0;32mas\u001b[0m \u001b[0mit\u001b[0m\u001b[0;34m:\u001b[0m\u001b[0;34m\u001b[0m\u001b[0;34m\u001b[0m\u001b[0m\n\u001b[0;32m--> 164\u001b[0;31m         \u001b[0;32mreturn\u001b[0m \u001b[0mlist\u001b[0m\u001b[0;34m(\u001b[0m\u001b[0mit\u001b[0m\u001b[0;34m)\u001b[0m\u001b[0;34m\u001b[0m\u001b[0;34m\u001b[0m\u001b[0m\n\u001b[0m\u001b[1;32m    165\u001b[0m \u001b[0;34m\u001b[0m\u001b[0m\n\u001b[1;32m    166\u001b[0m \u001b[0;31m# Recursively yields relative pathnames inside a literal directory.\u001b[0m\u001b[0;34m\u001b[0m\u001b[0;34m\u001b[0m\u001b[0m\n",
            "\u001b[0;32m/usr/lib/python3.10/glob.py\u001b[0m in \u001b[0;36m_iterdir\u001b[0;34m(dirname, dir_fd, dironly)\u001b[0m\n\u001b[1;32m    147\u001b[0m                 \u001b[0;32mfor\u001b[0m \u001b[0mentry\u001b[0m \u001b[0;32min\u001b[0m \u001b[0mit\u001b[0m\u001b[0;34m:\u001b[0m\u001b[0;34m\u001b[0m\u001b[0;34m\u001b[0m\u001b[0m\n\u001b[1;32m    148\u001b[0m                     \u001b[0;32mtry\u001b[0m\u001b[0;34m:\u001b[0m\u001b[0;34m\u001b[0m\u001b[0;34m\u001b[0m\u001b[0m\n\u001b[0;32m--> 149\u001b[0;31m                         \u001b[0;32mif\u001b[0m \u001b[0;32mnot\u001b[0m \u001b[0mdironly\u001b[0m \u001b[0;32mor\u001b[0m \u001b[0mentry\u001b[0m\u001b[0;34m.\u001b[0m\u001b[0mis_dir\u001b[0m\u001b[0;34m(\u001b[0m\u001b[0;34m)\u001b[0m\u001b[0;34m:\u001b[0m\u001b[0;34m\u001b[0m\u001b[0;34m\u001b[0m\u001b[0m\n\u001b[0m\u001b[1;32m    150\u001b[0m                             \u001b[0;32mif\u001b[0m \u001b[0mfsencode\u001b[0m \u001b[0;32mis\u001b[0m \u001b[0;32mnot\u001b[0m \u001b[0;32mNone\u001b[0m\u001b[0;34m:\u001b[0m\u001b[0;34m\u001b[0m\u001b[0;34m\u001b[0m\u001b[0m\n\u001b[1;32m    151\u001b[0m                                 \u001b[0;32myield\u001b[0m \u001b[0mfsencode\u001b[0m\u001b[0;34m(\u001b[0m\u001b[0mentry\u001b[0m\u001b[0;34m.\u001b[0m\u001b[0mname\u001b[0m\u001b[0;34m)\u001b[0m\u001b[0;34m\u001b[0m\u001b[0;34m\u001b[0m\u001b[0m\n",
            "\u001b[0;31mKeyboardInterrupt\u001b[0m: "
          ]
        }
      ],
      "source": [
        "tmp = glob.glob('train_emb/*')"
      ]
    },
    {
      "cell_type": "markdown",
      "metadata": {
        "id": "yDK6ZppBw7QD"
      },
      "source": [
        "# Training"
      ]
    },
    {
      "cell_type": "markdown",
      "metadata": {},
      "source": [
        "## MLP"
      ]
    },
    {
      "cell_type": "markdown",
      "metadata": {},
      "source": [
        "Commented the google drive code below and make sure to change the directory to the one where the embeddings are stored."
      ]
    },
    {
      "cell_type": "code",
      "execution_count": 1,
      "metadata": {
        "colab": {
          "base_uri": "https://localhost:8080/"
        },
        "id": "cm5oCgz_o9CX",
        "outputId": "84201cb1-d00a-4490-ab2b-28eafd578a70"
      },
      "outputs": [],
      "source": [
        "# from google.colab import drive\n",
        "# drive.mount('/content/drive')\n"
      ]
    },
    {
      "cell_type": "code",
      "execution_count": null,
      "metadata": {},
      "outputs": [],
      "source": [
        "#cd drive/MyDrive/ECE285"
      ]
    },
    {
      "cell_type": "code",
      "execution_count": 2,
      "metadata": {},
      "outputs": [],
      "source": [
        "directory = 'dataset/train_emb/'"
      ]
    },
    {
      "cell_type": "code",
      "execution_count": null,
      "metadata": {
        "colab": {
          "base_uri": "https://localhost:8080/"
        },
        "id": "cAeZUlRBxbTk",
        "outputId": "7d4f0cd6-d217-44dd-85d4-52dbeb0f36b9"
      },
      "outputs": [],
      "source": [
        "pip install torch_geometric"
      ]
    },
    {
      "cell_type": "code",
      "execution_count": null,
      "metadata": {},
      "outputs": [],
      "source": [
        "pip install pyg_lib torch_scatter torch_sparse torch_cluster torch_spline_conv -f https://data.pyg.org/whl/torch-2.3.0+cu121.html"
      ]
    },
    {
      "cell_type": "code",
      "execution_count": 1,
      "metadata": {
        "id": "i01zbXuYvbrW"
      },
      "outputs": [],
      "source": [
        "import tqdm.notebook as tqdm\n",
        "import glob\n",
        "import torch\n",
        "from torch.utils.data import Dataset, DataLoader\n",
        "import numpy as np\n",
        "import scipy\n",
        "import os\n",
        "import torch_geometric\n",
        "import torch.nn as nn\n",
        "import pycocoevalcap"
      ]
    },
    {
      "cell_type": "code",
      "execution_count": 6,
      "metadata": {},
      "outputs": [],
      "source": [
        "directory = 'train_emb/train_emb/'"
      ]
    },
    {
      "cell_type": "code",
      "execution_count": 7,
      "metadata": {
        "id": "a2SMJvGtv97Q"
      },
      "outputs": [],
      "source": [
        "class kNNDataset(Dataset):\n",
        "    def __init__(self, k = 3, path=directory+\"*\", cond='max'):\n",
        "        # if os.path.exists('data_' + cond):\n",
        "        #   self.img_emb = np.load('data_' + cond +'/img_emb.npy')\n",
        "        #   self.cap_emb = np.load('data_' + cond +'/cap_emb.npy')\n",
        "        #   self.kNN = np.load('data_' + cond +'/kNN.npy')\n",
        "        #   return\n",
        "        # os.mkdir('data_' + cond)\n",
        "        self.img_emb = []\n",
        "        self.cap_emb = []\n",
        "        for file in tqdm.tqdm(sorted(glob.glob(path))):\n",
        "            image_emb = np.load(file)[0]\n",
        "            caption_emb = np.load(file)[1:]\n",
        "            self.img_emb.append(image_emb)\n",
        "            if cond == 'max':\n",
        "              self.cap_emb.append(caption_emb[np.argmax(np.dot(image_emb,caption_emb.T)/(np.linalg.norm(image_emb)*np.linalg.norm(caption_emb,axis=1)))])\n",
        "            elif cond =='avg':\n",
        "              sim_array = scipy.special.softmax(np.dot(image_emb,caption_emb.T)/(np.linalg.norm(image_emb)*np.linalg.norm(caption_emb,axis=1)))\n",
        "              self.cap_emb.append(np.sum(sim_array[:, None] * caption_emb, axis = 0))\n",
        "\n",
        "\n",
        "\n",
        "        self.img_emb = np.array(self.img_emb)\n",
        "        self.cap_emb = np.array(self.cap_emb)\n",
        "\n",
        "        kNN = []\n",
        "        img_emb = torch.from_numpy(self.img_emb).float().cuda()\n",
        "        for emb in tqdm.tqdm(img_emb):\n",
        "            distance = torch.nn.functional.cosine_similarity(emb.unsqueeze(0), img_emb)\n",
        "            k_neigh = distance.topk(k, largest=True)\n",
        "            kNN.append((k_neigh[0][1:].cpu().numpy(),k_neigh[1][1:].cpu().numpy()))\n",
        "\n",
        "        self.kNN = np.array(kNN)\n",
        "\n",
        "        np.save('data_' + cond +'/kNN.npy', self.kNN)\n",
        "        np.save('data_' + cond +'/img_emb.npy', self.img_emb)\n",
        "        np.save('data_' + cond +'/cap_emb.npy', self.cap_emb)\n",
        "\n",
        "\n",
        "    def __getitem__(self, idx):\n",
        "        #img embedding, caption embedding, kNN scores, kNN indices\n",
        "        return torch.from_numpy(self.img_emb[idx]),torch.from_numpy(self.cap_emb[idx]),torch.from_numpy(self.kNN[idx][0]),torch.from_numpy(self.cap_emb[self.kNN[idx][1].astype(np.int32), :])\n",
        "\n",
        "    def __len__(self):\n",
        "        return len(self.img_emb)\n"
      ]
    },
    {
      "cell_type": "code",
      "execution_count": 7,
      "metadata": {},
      "outputs": [],
      "source": [
        "class kNNDataset_Bart(Dataset):\n",
        "    def __init__(self, k = 2, path=directory, dict_file = 'image_name.pickle', knn_file = 'data_max/kNN.npy'):\n",
        "\n",
        "        self.kNN = np.load(knn_file, allow_pickle=True)\n",
        "        with open(dict_file, 'rb') as handle:\n",
        "            self.max_caption_dict = pickle.load(handle)\n",
        "\n",
        "        self.img_names = sorted(list(self.max_caption_dict.keys()))\n",
        "        self.path = path\n",
        "\n",
        "    def __getitem__(self, idx):\n",
        "        #img embedding, caption embedding, kNN scores, kNN indices\n",
        "\n",
        "        img_name = self.img_names[idx]\n",
        "        embs = np.load(path + img_name.split('.')[0] + '.npz')\n",
        "        img_emb = embs['img']\n",
        "        txt_emb = embs['txt']\n",
        "\n",
        "        scores, indices = self.kNN[idx]\n",
        "\n",
        "        neighbors = []\n",
        "        for i in range(len(indices)):\n",
        "            neighbors.append(np.load(path + self.img_names[indices[i]].split('.')[0] + '.npz')['txt'])\n",
        "        neighbors = np.array(neighbors)\n",
        "\n",
        "        return torch.from_numpy(img_emb),torch.from_numpy(txt_emb),torch.from_numpy(scores),torch.from_numpy(neighbors)\n",
        "\n",
        "    def __len__(self):\n",
        "        return len(self.img_names)\n"
      ]
    },
    {
      "cell_type": "code",
      "execution_count": 8,
      "metadata": {
        "id": "XtbGpvyAxm5t"
      },
      "outputs": [
        {
          "data": {
            "application/vnd.jupyter.widget-view+json": {
              "model_id": "078c8c287c78409b948cb9a5822576f1",
              "version_major": 2,
              "version_minor": 0
            },
            "text/plain": [
              "  0%|          | 0/82783 [00:00<?, ?it/s]"
            ]
          },
          "metadata": {},
          "output_type": "display_data"
        },
        {
          "data": {
            "application/vnd.jupyter.widget-view+json": {
              "model_id": "ac75c57bc3af4f969a0d7b6fcfad3b8a",
              "version_major": 2,
              "version_minor": 0
            },
            "text/plain": [
              "  0%|          | 0/82783 [00:00<?, ?it/s]"
            ]
          },
          "metadata": {},
          "output_type": "display_data"
        }
      ],
      "source": [
        "dataset = kNNDataset()\n",
        "dataloader = DataLoader(dataset, batch_size=128, shuffle=True)"
      ]
    },
    {
      "cell_type": "code",
      "execution_count": 11,
      "metadata": {},
      "outputs": [],
      "source": [
        "bart_dataset = kNNDataset_Bart()\n",
        "bart_dataloader = DataLoader(bart_dataset, batch_size=8, shuffle=True)"
      ]
    },
    {
      "cell_type": "code",
      "execution_count": null,
      "metadata": {},
      "outputs": [],
      "source": [
        "model = BartForConditionalGeneration.from_pretrained(\"facebook/bart-large\", forced_bos_token_id=0)\n",
        "tok = BartTokenizer.from_pretrained(\"facebook/bart-large\")\n",
        "decoder_input_ids = torch.full(\n",
        "    (32, 1),\n",
        "    model.config.decoder_start_token_id,\n",
        "    dtype=torch.long,\n",
        "    device=\"cpu\"\n",
        ")\n",
        "\n"
      ]
    },
    {
      "cell_type": "code",
      "execution_count": null,
      "metadata": {},
      "outputs": [],
      "source": [
        "for i, (img_emb, cap_emb, knn, cap_emb_knn) in enumerate(dataloader):\n",
        "    mean_cap_emb = cap_emb_knn.mean(dim=1)\n",
        "    l2_val = torch.nn.functional.mse_loss(cap_emb, mean_cap_emb)\n",
        "    if i ==1 :\n",
        "        output_ids = model.generate(encoder_outputs=mean_cap_emb, decoder_input_ids=decoder_input_ids)\n",
        "        print(tok.batch_decode(output_ids, skip_special_tokens=True))"
      ]
    },
    {
      "cell_type": "code",
      "execution_count": null,
      "metadata": {},
      "outputs": [],
      "source": [
        "net.train()\n",
        "for epoch in range(100):\n",
        "    for i, (img_emb, cap_emb, knn, cap_emb_knn) in enumerate(dataloader):\n",
        "        batch_size = img_emb.size()[0]\n",
        "        img_emb = img_emb.cuda().reshape((-1,1,768))\n",
        "        cap_emb = cap_emb.cuda()\n",
        "        knn = knn.cuda()\n",
        "        cap_emb_knn = cap_emb_knn.cuda()\n",
        "        # weights = torch.nn.functional.softmax(knn,dim=1).unsqueeze(-1)\n",
        "\n",
        "        # avg_cap_emb = torch.mean(weights * cap_emb_knn, dim=1, keepdim=True).float()\n",
        "        optimizer.zero_grad()\n",
        "        output = net(torch.cat([img_emb,cap_emb_knn], dim=1))\n",
        "        loss = criterion(output, cap_emb, torch.ones(batch_size).cuda())\n",
        "        loss.backward()\n",
        "        optimizer.step()\n",
        "\n",
        "\n",
        "    print(f'Epoch: {epoch+1}, Loss: {loss.item():.4f}')\n",
        "\n",
        "torch.save(net.state_dict(), 'knn_max_mlp.pt')\n"
      ]
    },
    {
      "cell_type": "code",
      "execution_count": 9,
      "metadata": {
        "colab": {
          "base_uri": "https://localhost:8080/"
        },
        "id": "kvB7fU8d_V8h",
        "outputId": "63d31d4d-bc69-4693-b89e-f99c49d54e33"
      },
      "outputs": [
        {
          "name": "stdout",
          "output_type": "stream",
          "text": [
            "KNN_MLP(\n",
            "  (linear1): Linear(in_features=1536, out_features=2000, bias=True)\n",
            "  (bn1): BatchNorm1d(2000, eps=1e-05, momentum=0.1, affine=True, track_running_stats=True)\n",
            "  (relu): ReLU()\n",
            "  (linear2): Linear(in_features=2000, out_features=768, bias=False)\n",
            ")\n"
          ]
        }
      ],
      "source": [
        "class KNN_MLP(nn.Module):\n",
        "    def __init__(self):\n",
        "        super(KNN_MLP, self).__init__()\n",
        "        self.linear1 = nn.Linear(2*768, 2000)\n",
        "        self.bn1 = nn.BatchNorm1d(2000)\n",
        "        self.relu = nn.ReLU()\n",
        "        self.linear2 = nn.Linear(2000, 768,bias=False)\n",
        "\n",
        "    def forward(self, x):\n",
        "        x = x.flatten(start_dim=1)\n",
        "        x = self.linear1(x)\n",
        "        x = self.bn1(x)\n",
        "        x = self.relu(x)\n",
        "        x = self.linear2(x)\n",
        "        return x\n",
        "\n",
        "net = KNN_MLP().cuda()\n",
        "print(net)\n"
      ]
    },
    {
      "cell_type": "code",
      "execution_count": 10,
      "metadata": {
        "colab": {
          "base_uri": "https://localhost:8080/",
          "height": 525
        },
        "id": "pKCNuVfcBlgk",
        "outputId": "ac5a5a81-899c-442a-aed8-5458eb50e191"
      },
      "outputs": [],
      "source": [
        "criterion = nn.CosineEmbeddingLoss()\n",
        "optimizer = torch.optim.Adam(net.parameters(), lr=0.001)"
      ]
    },
    {
      "cell_type": "code",
      "execution_count": 11,
      "metadata": {},
      "outputs": [
        {
          "name": "stdout",
          "output_type": "stream",
          "text": [
            "Epoch: 1, Loss: 0.1614\n",
            "Epoch: 2, Loss: 0.1700\n",
            "Epoch: 3, Loss: 0.1669\n",
            "Epoch: 4, Loss: 0.1566\n",
            "Epoch: 5, Loss: 0.1546\n",
            "Epoch: 6, Loss: 0.1482\n",
            "Epoch: 7, Loss: 0.1549\n",
            "Epoch: 8, Loss: 0.1586\n",
            "Epoch: 9, Loss: 0.1567\n"
          ]
        },
        {
          "ename": "KeyboardInterrupt",
          "evalue": "",
          "output_type": "error",
          "traceback": [
            "\u001b[1;31m---------------------------------------------------------------------------\u001b[0m",
            "\u001b[1;31mKeyboardInterrupt\u001b[0m                         Traceback (most recent call last)",
            "Cell \u001b[1;32mIn[11], line 13\u001b[0m\n\u001b[0;32m     11\u001b[0m avg_cap_emb \u001b[38;5;241m=\u001b[39m torch\u001b[38;5;241m.\u001b[39mmean(weights \u001b[38;5;241m*\u001b[39m cap_emb_knn, dim\u001b[38;5;241m=\u001b[39m\u001b[38;5;241m1\u001b[39m, keepdim\u001b[38;5;241m=\u001b[39m\u001b[38;5;28;01mTrue\u001b[39;00m)\u001b[38;5;241m.\u001b[39mfloat()\n\u001b[0;32m     12\u001b[0m optimizer\u001b[38;5;241m.\u001b[39mzero_grad()\n\u001b[1;32m---> 13\u001b[0m output \u001b[38;5;241m=\u001b[39m net(\u001b[43mtorch\u001b[49m\u001b[38;5;241;43m.\u001b[39;49m\u001b[43mcat\u001b[49m\u001b[43m(\u001b[49m\u001b[43m[\u001b[49m\u001b[43mimg_emb\u001b[49m\u001b[43m,\u001b[49m\u001b[43m \u001b[49m\u001b[43mavg_cap_emb\u001b[49m\u001b[43m]\u001b[49m\u001b[43m,\u001b[49m\u001b[43m \u001b[49m\u001b[43mdim\u001b[49m\u001b[38;5;241;43m=\u001b[39;49m\u001b[38;5;241;43m1\u001b[39;49m\u001b[43m)\u001b[49m)\n\u001b[0;32m     14\u001b[0m loss \u001b[38;5;241m=\u001b[39m criterion(output, cap_emb, torch\u001b[38;5;241m.\u001b[39mones(batch_size)\u001b[38;5;241m.\u001b[39mcuda())\n\u001b[0;32m     15\u001b[0m loss\u001b[38;5;241m.\u001b[39mbackward()\n",
            "\u001b[1;31mKeyboardInterrupt\u001b[0m: "
          ]
        }
      ],
      "source": [
        "net.train()\n",
        "for epoch in range(100):\n",
        "    for i, (img_emb, cap_emb, knn, cap_emb_knn) in enumerate(dataloader):\n",
        "        batch_size = img_emb.size()[0]\n",
        "        img_emb = img_emb.cuda().reshape((-1,1,768))\n",
        "        cap_emb = cap_emb.cuda()\n",
        "        knn = knn.cuda()\n",
        "        cap_emb_knn = cap_emb_knn.cuda()\n",
        "        weights = torch.nn.functional.softmax(knn,dim=1).unsqueeze(-1)\n",
        "\n",
        "        avg_cap_emb = torch.mean(weights * cap_emb_knn, dim=1, keepdim=True).float()\n",
        "        optimizer.zero_grad()\n",
        "        output = net(torch.cat([img_emb, avg_cap_emb], dim=1))\n",
        "        loss = criterion(output, cap_emb, torch.ones(batch_size).cuda())\n",
        "        loss.backward()\n",
        "        optimizer.step()\n",
        "\n",
        "\n",
        "    print(f'Epoch: {epoch+1}, Loss: {loss.item():.4f}')\n",
        "\n",
        "torch.save(net.state_dict(), 'knn_max_mlp.pt')\n"
      ]
    },
    {
      "cell_type": "markdown",
      "metadata": {},
      "source": [
        "## Graph Convolutional Network"
      ]
    },
    {
      "attachments": {
        "graph.png": {
          "image/png": "[encoded data removed]"
        }
      },
      "cell_type": "markdown",
      "metadata": {},
      "source": [
        "Two graph methods __simple__(to the left) and __neighbors__(to the right) \n",
        "\n",
        "\n",
        "![graph.png](attachment:graph.png)\n",
        "\n",
        "The graph on the left is for the simplified case where the target node(green) is connected to all the text embeddings(purple) directly. The graph on the right is for the neighbors case where the nodes closest to each other(top k) are connected."
      ]
    },
    {
      "cell_type": "code",
      "execution_count": 5,
      "metadata": {},
      "outputs": [],
      "source": [
        "class GraphDataset(torch_geometric.data.InMemoryDataset):\n",
        "    def __init__(self, root, transform=None, pre_transform=None, cond='max', graph_type='simple', path = directory+\"*\", k = 11):\n",
        "        self.graph_type = graph_type\n",
        "        if os.path.exists('data_' + cond):\n",
        "          self.img_emb = np.load('data_' + cond +'/img_emb.npy')\n",
        "          self.cap_emb = np.load('data_' + cond +'/cap_emb.npy')\n",
        "          self.kNN = np.load('data_' + cond +'/kNN.npy')\n",
        "        else:\n",
        "            os.mkdir('data_' + cond)\n",
        "            self.img_emb = []\n",
        "            self.cap_emb = []\n",
        "            for file in tqdm.tqdm(glob.glob(path)):\n",
        "                image_emb = np.load(file)[0]\n",
        "                caption_emb = np.load(file)[1:]\n",
        "                self.img_emb.append(image_emb)\n",
        "                if cond == 'max':\n",
        "                    self.cap_emb.append(caption_emb[np.argmax(np.dot(image_emb,caption_emb.T)/(np.linalg.norm(image_emb)*np.linalg.norm(caption_emb,axis=1)))])\n",
        "                elif cond =='avg':\n",
        "                    sim_array = scipy.special.softmax(np.dot(image_emb,caption_emb.T)/(np.linalg.norm(image_emb)*np.linalg.norm(caption_emb,axis=1)))\n",
        "                    self.cap_emb.append(np.sum(sim_array[:, None] * caption_emb, axis = 0))\n",
        "\n",
        "\n",
        "\n",
        "            self.img_emb = np.array(self.img_emb)\n",
        "            self.cap_emb = np.array(self.cap_emb)\n",
        "\n",
        "            kNN = []\n",
        "            img_emb = torch.from_numpy(self.img_emb).float().cuda()\n",
        "            for emb in tqdm.tqdm(img_emb):\n",
        "                distance = torch.nn.functional.cosine_similarity(emb.unsqueeze(0), img_emb)\n",
        "                k_neigh = distance.topk(k, largest=True)\n",
        "                kNN.append((k_neigh[0][1:].cpu().numpy(),k_neigh[1][1:].cpu().numpy()))\n",
        "\n",
        "            self.kNN = np.array(kNN)\n",
        "\n",
        "            np.save('data_' + cond +'/kNN.npy', self.kNN)\n",
        "            np.save('data_' + cond +'/img_emb.npy', self.img_emb)\n",
        "            np.save('data_' + cond +'/cap_emb.npy', self.cap_emb)\n",
        "\n",
        "            \n",
        "        super(GraphDataset, self).__init__(root, transform, pre_transform)\n",
        "        self.data, self.slices = torch.load(self.processed_paths[0])\n",
        "\n",
        "    @property\n",
        "    def raw_file_names(self):\n",
        "        return []\n",
        "\n",
        "    @property\n",
        "    def processed_file_names(self):\n",
        "        return ['data.pt']\n",
        "\n",
        "    def download(self):\n",
        "        pass\n",
        "\n",
        "    def process(self):\n",
        "        data_list = []\n",
        "\n",
        "        for i in tqdm.tqdm(range(len(self.img_emb))):\n",
        "            data = self.build_graph(i)\n",
        "            data_list.append(data)\n",
        "\n",
        "        data, slices = self.collate(data_list)\n",
        "        torch.save((data, slices), self.processed_paths[0])\n",
        "\n",
        "    def build_graph(self, idx):\n",
        "        img_emb = torch.from_numpy(self.img_emb[self.kNN[idx][1].astype(np.int32), :])\n",
        "        cap_emb = torch.from_numpy(self.cap_emb[self.kNN[idx][1].astype(np.int32), :])\n",
        "\n",
        "        if self.graph_type == 'simple':\n",
        "            edge_index = torch.tensor([np.concatenate([np.zeros(len(self.kNN[idx][0])),np.arange(1, len(self.kNN[idx][0])+1)]),np.concatenate([np.arange(1, len(self.kNN[idx][0])+1) ,np.zeros(len(self.kNN[idx][0]))])],dtype=torch.long)\n",
        "            edge_weights = torch.tensor(self.kNN[idx][0])\n",
        "            edge_weights = torch.cat([edge_weights, edge_weights])\n",
        "\n",
        "        elif self.graph_type == 'neighbors':\n",
        "\n",
        "            img_emb = torch.cat([torch.tensor(self.img_emb[idx][None, :]), img_emb])\n",
        "            adj_dict = {}\n",
        "            for idx, emb in enumerate(img_emb):\n",
        "                dist = torch.nn.functional.cosine_similarity(emb.unsqueeze(0), img_emb)\n",
        "                k_neigh = dist.topk(4, largest=True)\n",
        "                for i in range(1,4):\n",
        "                    if str(idx)+'_'+str(k_neigh[1][i].item()) not in adj_dict:\n",
        "                        adj_dict[str(idx)+'_'+str(k_neigh[1][i].item())] = k_neigh[0][i].item()\n",
        "                        adj_dict[str(k_neigh[1][i].item())+'_'+str(idx)] = k_neigh[0][i].item()\n",
        "\n",
        "            edges = torch.tensor([[int(key.split('_')[0]), int(key.split('_')[1]), adj_dict[key]] for key in adj_dict],dtype=torch.double).T\n",
        "            edge_index = edges[:2]\n",
        "            edge_weights = torch.tensor(edges[2].clone().detach(),dtype=torch.double)\n",
        "            \n",
        "            \n",
        "        return torch_geometric.data.Data(x=torch.cat([torch.from_numpy(self.img_emb[idx][None, :]), cap_emb]), edge_index=edge_index, edge_attr=edge_weights, y=torch.from_numpy(self.cap_emb[idx]))"
      ]
    },
    {
      "cell_type": "code",
      "execution_count": 10,
      "metadata": {},
      "outputs": [
        {
          "name": "stderr",
          "output_type": "stream",
          "text": [
            "Processing...\n"
          ]
        },
        {
          "data": {
            "application/vnd.jupyter.widget-view+json": {
              "model_id": "e6badd0a46964cb187427de5c1613b5a",
              "version_major": 2,
              "version_minor": 0
            },
            "text/plain": [
              "  0%|          | 0/82783 [00:00<?, ?it/s]"
            ]
          },
          "metadata": {},
          "output_type": "display_data"
        },
        {
          "name": "stderr",
          "output_type": "stream",
          "text": [
            "C:\\Users\\anand\\AppData\\Local\\Temp\\ipykernel_20064\\2847396819.py:70: UserWarning: Creating a tensor from a list of numpy.ndarrays is extremely slow. Please consider converting the list to a single numpy.ndarray with numpy.array() before converting to a tensor. (Triggered internally at ..\\torch\\csrc\\utils\\tensor_new.cpp:277.)\n",
            "  edge_index = torch.tensor([np.concatenate([np.zeros(len(self.kNN[idx][0])),np.arange(1, len(self.kNN[idx][0])+1)]),np.concatenate([np.arange(1, len(self.kNN[idx][0])+1) ,np.zeros(len(self.kNN[idx][0]))])],dtype=torch.long)\n",
            "Done!\n"
          ]
        }
      ],
      "source": [
        "batch_size = 32\n",
        "k = 10\n",
        "graph_dataset = GraphDataset(root='.', cond='max', graph_type='simple')\n",
        "graph_dataloader = torch_geometric.loader.DataLoader(graph_dataset, batch_size=batch_size, shuffle=True)"
      ]
    },
    {
      "cell_type": "code",
      "execution_count": 11,
      "metadata": {},
      "outputs": [],
      "source": [
        "class GraphConvolution(nn.Module):\n",
        "    def __init__(self, in_channels, hidden_channels):\n",
        "        super(GraphConvolution, self).__init__()\n",
        "\n",
        "        self.in_channels = in_channels\n",
        "        self.hidden_channels = hidden_channels\n",
        "\n",
        "        self.conv1 = torch_geometric.nn.GCNConv(in_channels, hidden_channels)\n",
        "        self.conv2 = torch_geometric.nn.GCNConv(hidden_channels, in_channels)\n",
        "\n",
        "    def forward(self, x, edge_index, edge_attr):\n",
        "        x = self.conv1(x, edge_index, edge_attr)\n",
        "        x = torch.nn.functional.relu(x)\n",
        "        x = self.conv2(x.to(torch.float32), edge_index, edge_attr)\n",
        "        return x\n",
        "    \n",
        "graphNet = GraphConvolution(768, 4*768).cuda()"
      ]
    },
    {
      "cell_type": "code",
      "execution_count": 14,
      "metadata": {},
      "outputs": [],
      "source": [
        "criterion = nn.CosineEmbeddingLoss()\n",
        "graph_optimizer = torch.optim.Adam(graphNet.parameters(), lr=0.0001)"
      ]
    },
    {
      "cell_type": "code",
      "execution_count": 15,
      "metadata": {},
      "outputs": [
        {
          "name": "stdout",
          "output_type": "stream",
          "text": [
            "Epoch: 1, Loss: 0.1818321306175076\n",
            "Epoch: 2, Loss: 0.14019335458956692\n",
            "Epoch: 3, Loss: 0.1587418611959883\n",
            "Epoch: 4, Loss: 0.15058275760516718\n",
            "Epoch: 5, Loss: 0.166902608978833\n",
            "Epoch: 6, Loss: 0.1521851216683451\n",
            "Epoch: 7, Loss: 0.16235608529278592\n",
            "Epoch: 8, Loss: 0.15298734718178728\n"
          ]
        },
        {
          "ename": "KeyboardInterrupt",
          "evalue": "",
          "output_type": "error",
          "traceback": [
            "\u001b[1;31m---------------------------------------------------------------------------\u001b[0m",
            "\u001b[1;31mKeyboardInterrupt\u001b[0m                         Traceback (most recent call last)",
            "Cell \u001b[1;32mIn[15], line 7\u001b[0m\n\u001b[0;32m      5\u001b[0m graph_optimizer\u001b[38;5;241m.\u001b[39mzero_grad()\n\u001b[0;32m      6\u001b[0m output \u001b[38;5;241m=\u001b[39m graphNet(data\u001b[38;5;241m.\u001b[39mx, data\u001b[38;5;241m.\u001b[39medge_index\u001b[38;5;241m.\u001b[39mto(torch\u001b[38;5;241m.\u001b[39mlong), data\u001b[38;5;241m.\u001b[39medge_attr)\n\u001b[1;32m----> 7\u001b[0m loss \u001b[38;5;241m=\u001b[39m \u001b[43mcriterion\u001b[49m\u001b[43m(\u001b[49m\u001b[43moutput\u001b[49m\u001b[38;5;241;43m.\u001b[39;49m\u001b[43mreshape\u001b[49m\u001b[43m(\u001b[49m\u001b[38;5;241;43m-\u001b[39;49m\u001b[38;5;241;43m1\u001b[39;49m\u001b[43m,\u001b[49m\u001b[43m \u001b[49m\u001b[43mk\u001b[49m\u001b[43m \u001b[49m\u001b[38;5;241;43m+\u001b[39;49m\u001b[43m \u001b[49m\u001b[38;5;241;43m1\u001b[39;49m\u001b[43m,\u001b[49m\u001b[43m \u001b[49m\u001b[38;5;241;43m768\u001b[39;49m\u001b[43m)\u001b[49m\u001b[43m[\u001b[49m\u001b[43m:\u001b[49m\u001b[43m,\u001b[49m\u001b[38;5;241;43m0\u001b[39;49m\u001b[43m,\u001b[49m\u001b[43m:\u001b[49m\u001b[43m]\u001b[49m\u001b[43m,\u001b[49m\u001b[43m \u001b[49m\u001b[43mdata\u001b[49m\u001b[38;5;241;43m.\u001b[39;49m\u001b[43my\u001b[49m\u001b[38;5;241;43m.\u001b[39;49m\u001b[43mreshape\u001b[49m\u001b[43m(\u001b[49m\u001b[38;5;241;43m-\u001b[39;49m\u001b[38;5;241;43m1\u001b[39;49m\u001b[43m,\u001b[49m\u001b[43m \u001b[49m\u001b[38;5;241;43m768\u001b[39;49m\u001b[43m)\u001b[49m\u001b[43m,\u001b[49m\u001b[43m \u001b[49m\u001b[43mtorch\u001b[49m\u001b[38;5;241;43m.\u001b[39;49m\u001b[43mones\u001b[49m\u001b[43m(\u001b[49m\u001b[43mdata\u001b[49m\u001b[38;5;241;43m.\u001b[39;49m\u001b[43my\u001b[49m\u001b[38;5;241;43m.\u001b[39;49m\u001b[43mreshape\u001b[49m\u001b[43m(\u001b[49m\u001b[38;5;241;43m-\u001b[39;49m\u001b[38;5;241;43m1\u001b[39;49m\u001b[43m,\u001b[49m\u001b[43m \u001b[49m\u001b[38;5;241;43m768\u001b[39;49m\u001b[43m)\u001b[49m\u001b[38;5;241;43m.\u001b[39;49m\u001b[43msize\u001b[49m\u001b[43m(\u001b[49m\u001b[38;5;241;43m0\u001b[39;49m\u001b[43m)\u001b[49m\u001b[43m)\u001b[49m\u001b[38;5;241;43m.\u001b[39;49m\u001b[43mcuda\u001b[49m\u001b[43m(\u001b[49m\u001b[43m)\u001b[49m\u001b[43m)\u001b[49m\n\u001b[0;32m      8\u001b[0m loss\u001b[38;5;241m.\u001b[39mbackward()\n\u001b[0;32m      9\u001b[0m graph_optimizer\u001b[38;5;241m.\u001b[39mstep()\n",
            "\u001b[1;31mKeyboardInterrupt\u001b[0m: "
          ]
        }
      ],
      "source": [
        "graphNet.train()\n",
        "for epoch in range(100):\n",
        "    for i, data in enumerate(graph_dataloader):\n",
        "        data = data.to('cuda')\n",
        "        graph_optimizer.zero_grad()\n",
        "        output = graphNet(data.x, data.edge_index.to(torch.long), data.edge_attr)\n",
        "        loss = criterion(output.reshape(-1, k + 1, 768)[:,0,:], data.y.reshape(-1, 768), torch.ones(data.y.reshape(-1, 768).size(0)).cuda())\n",
        "        loss.backward()\n",
        "        graph_optimizer.step()\n",
        "\n",
        "\n",
        "    print(f'Epoch: {epoch+1}, Loss: {loss.item()}')\n",
        "\n",
        "torch.save(net.state_dict(), 'knn_max_gcn.pt')"
      ]
    },
    {
      "cell_type": "markdown",
      "metadata": {},
      "source": [
        "## Cross Attention Transformer"
      ]
    },
    {
      "cell_type": "markdown",
      "metadata": {},
      "source": [
        "![alt text](image.png)"
      ]
    },
    {
      "cell_type": "code",
      "execution_count": 9,
      "metadata": {
        "id": "aTv1ksXk6BhE"
      },
      "outputs": [],
      "source": [
        "def positional_encoding(max_len, d_model):\n",
        "    pe = torch.zeros(max_len, d_model)\n",
        "    position = torch.arange(0, max_len).unsqueeze(1).float()\n",
        "    div_term = torch.exp(torch.arange(0, d_model, 2).float() * -(np.log(10000.0) / d_model))\n",
        "    pe[:, 0::2] = torch.sin(position * div_term)\n",
        "    pe[:, 1::2] = torch.cos(position * div_term)\n",
        "    return pe\n",
        "\n",
        "class MultiHeadAttention(nn.Module):\n",
        "    def __init__(self, d_model, num_heads):\n",
        "        super(MultiHeadAttention, self).__init__()\n",
        "        assert d_model % num_heads == 0\n",
        "        self.d_model = d_model\n",
        "        self.num_heads = num_heads\n",
        "        self.d_k = d_model // num_heads\n",
        "        self.linear_layers = nn.ModuleList([nn.Linear(d_model, d_model) for _ in range(3)])\n",
        "        self.output_linear = nn.Linear(d_model, d_model)\n",
        "\n",
        "    def scaled_dot_product_attention(self, q, k, v):\n",
        "        batch_size = q.size(0)\n",
        "        scores = torch.einsum(\"bhqd,bhkd->bhqk\", q, k) / np.sqrt(self.d_k)\n",
        "        attention = torch.nn.functional.softmax(scores, dim=2)\n",
        "        return torch.einsum(\"bhqv,bhvd->bhqd\", attention, v)\n",
        "\n",
        "    def split_heads(self, x, batch_size):\n",
        "        return x.view(batch_size, -1, self.num_heads, self.d_k).transpose(1, 2)\n",
        "\n",
        "    def group_heads(self, x, batch_size):\n",
        "        return x.transpose(1, 2).contiguous().view(batch_size, -1, self.num_heads * self.d_k)\n",
        "\n",
        "    def forward(self, q, k, v):\n",
        "        batch_size = q.size(0)\n",
        "        q, k, v = [l(x).view(batch_size, -1, self.num_heads, self.d_k).transpose(1, 2) for l, x in zip(self.linear_layers, (q, k, v))]\n",
        "        x = self.scaled_dot_product_attention(q, k, v)\n",
        "        x = x.transpose(1, 2).contiguous().view(batch_size, -1, self.num_heads * self.d_k)\n",
        "        return self.output_linear(x)\n",
        "\n",
        "\n",
        "class SelfAttentionBlock(nn.Module):\n",
        "    def __init__(self, d_model, num_heads):\n",
        "        super(SelfAttentionBlock, self).__init__()\n",
        "        self.multi_head_attention = MultiHeadAttention(d_model, num_heads)\n",
        "        self.layer_norm1 = nn.LayerNorm(d_model)\n",
        "        self.linear1 = nn.Linear(d_model, 4 * d_model)\n",
        "        self.dropout = nn.Dropout(0.1)\n",
        "        self.linear2 = nn.Linear(4 * d_model, d_model)\n",
        "        self.layer_norm2 = nn.LayerNorm(d_model)\n",
        "\n",
        "    def forward(self, x):\n",
        "        x = x + self.multi_head_attention(x, x, x)\n",
        "        x_1 = self.layer_norm1(x)\n",
        "        x = self.linear2(self.dropout(torch.nn.functional.relu(self.linear1(x_1))))\n",
        "        x = x + self.dropout(x_1)\n",
        "        x = self.layer_norm2(x)\n",
        "        return x\n",
        "    \n",
        "class CrossAttentionBlock(nn.Module):\n",
        "    def __init__(self, d_model, num_heads):\n",
        "        super(CrossAttentionBlock, self).__init__()\n",
        "        self.multi_head_self_attention = MultiHeadAttention(d_model, num_heads)\n",
        "        self.multi_head_cross_attention = MultiHeadAttention(d_model, num_heads)\n",
        "        self.layer_norm1 = nn.LayerNorm(d_model)\n",
        "        self.linear1 = nn.Linear(d_model, 4 * d_model)\n",
        "        self.dropout = nn.Dropout(0.1)\n",
        "        self.linear2 = nn.Linear(4 * d_model, d_model)\n",
        "        self.layer_norm2 = nn.LayerNorm(d_model)\n",
        "\n",
        "    def forward(self, x, y):\n",
        "        x = x + self.multi_head_self_attention(x, x, x)\n",
        "        x = x + self.multi_head_cross_attention(x, y, y)\n",
        "        x_1 = self.layer_norm1(x)\n",
        "        x = self.linear2(self.dropout(torch.nn.functional.relu(self.linear1(x_1))))\n",
        "        x = x + self.dropout(x_1)\n",
        "        x = self.layer_norm2(x)\n",
        "        return x\n",
        "\n",
        "class CrossAttentionTransformer(nn.Module):\n",
        "    def __init__(self, d_model, num_heads, num_layers):\n",
        "        super(CrossAttentionTransformer, self).__init__()\n",
        "        self.self_attention_blocks = nn.ModuleList([SelfAttentionBlock(d_model, num_heads) for _ in range(num_layers)])\n",
        "        self.cross_attention_blocks = nn.ModuleList([CrossAttentionBlock(d_model, num_heads) for _ in range(num_layers)])\n",
        "        self.learnable_embedding = nn.Parameter(torch.zeros((1,d_model)))\n",
        "\n",
        "    def forward(self, y):\n",
        "        x = self.learnable_embedding.repeat(y.size(0), 1, 1)\n",
        "        pe = positional_encoding(y.size(1), y.size(2)).cuda()\n",
        "        y = y + pe[None, :, :]\n",
        "        for block in self.self_attention_blocks:\n",
        "            y = block(y)\n",
        "        for block in self.cross_attention_blocks:\n",
        "            x = block(x, y)\n",
        "        return x \n",
        "\n",
        "\n",
        "class SelfAttentionTransformer(nn.Module):\n",
        "    def __init__(self, d_model, num_heads, num_layers):\n",
        "        super(SelfAttentionTransformer, self).__init__()\n",
        "        self.self_attention_blocks = nn.ModuleList([SelfAttentionBlock(d_model, num_heads) for _ in range(num_layers)])\n",
        "\n",
        "    def forward(self, y):\n",
        "        pe = positional_encoding(y.size(1), y.size(2)).cuda()\n",
        "        y = y + pe[None, :, :]\n",
        "        for block in self.self_attention_blocks:\n",
        "            y = block(y)\n",
        "        return y\n",
        "    \n",
        "class ImageEncoder(nn.Module):\n",
        "    def __init__(self, d_model):\n",
        "        super(ImageEncoder, self).__init__()\n",
        "        self.linear = nn.Linear(768, 768)\n",
        "        self.layer_norm = nn.LayerNorm(768)\n",
        "\n",
        "        self.linear2 = nn.Linear(768, d_model)\n",
        "        self.layer_norm2 = nn.LayerNorm(d_model)\n",
        "\n",
        "\n",
        "    def forward(self, x):\n",
        "        x = self.linear(x)\n",
        "        x = self.layer_norm(x)\n",
        "        x = torch.nn.functional.relu(x)\n",
        "        x = self.linear2(x)\n",
        "        x = self.layer_norm2(x)\n",
        "        return x\n",
        "\n",
        "imageEncoder = ImageEncoder(1024).cuda()\n",
        "transformerNet = CrossAttentionTransformer(1024*32, 4, 4).cuda()\n",
        "selfTransformerNet = SelfAttentionTransformer(1024*65, 4, 4).cuda()"
      ]
    },
    {
      "cell_type": "code",
      "execution_count": 10,
      "metadata": {},
      "outputs": [],
      "source": [
        "criterion = nn.CosineEmbeddingLoss()\n",
        "transformer_optimizer = torch.optim.Adam(transformerNet.parameters(), lr=0.0001)\n",
        "self_transformer_optimizer = torch.optim.Adam(selfTransformerNet.parameters(), lr=0.0001)\n",
        "image_optimizer = torch.optim.Adam(imageEncoder.parameters(), lr=0.0001)"
      ]
    },
    {
      "cell_type": "code",
      "execution_count": null,
      "metadata": {},
      "outputs": [],
      "source": [
        "transformerNet.train()\n",
        "selfTransformerNet.train()\n",
        "imageEncoder.train()\n",
        "for epoch in range(100):\n",
        "    for i, data in enumerate(bart_dataset):\n",
        "        batch_size = data[0].size()[0]\n",
        "        img_emb = data[0].cuda().unsqueeze(0)\n",
        "        cap_emb = data[1].cuda().unsqueeze(0)\n",
        "        score = data[2].cuda().unsqueeze(0)\n",
        "        cap_emb_knn = data[3].cuda().unsqueeze(0)\n",
        "        transformer_optimizer.zero_grad()\n",
        "        self_transformer_optimizer.zero_grad()\n",
        "        image_optimizer.zero_grad()\n",
        "\n",
        "\n",
        "        img_emb = imageEncoder(img_emb)\n",
        "        cap_emb_knn_combined = torch.cat(cap_emb_knn.reshape(batch_size, 1, -1), img_emb.reshape(batch_size, 1, -1), dim=2)\n",
        "        self_attention = selfTransformerNet(cap_emb_knn_combined)\n",
        "        output = transformerNet(self_attention)\n",
        "\n",
        "        loss = criterion(output, cap_emb)\n",
        "\n",
        "        loss.backward()\n",
        "        transformer_optimizer.step()\n",
        "        self_transformer_optimizer.step()\n",
        "        image_optimizer.step()\n",
        "\n",
        "    print(f'Epoch: {epoch+1}, Loss: {loss.item()}')\n",
        "\n",
        "torch.save(transformerNet.state_dict(), 'knn_max_transformer.pt')\n"
      ]
    },
    {
      "cell_type": "code",
      "execution_count": 22,
      "metadata": {},
      "outputs": [
        {
          "name": "stdout",
          "output_type": "stream",
          "text": [
            "Epoch: 1, Loss: 0.4250\n",
            "Epoch: 2, Loss: 0.4249\n",
            "Epoch: 3, Loss: 0.4247\n",
            "Epoch: 4, Loss: 0.4299\n",
            "Epoch: 5, Loss: 0.4367\n",
            "Epoch: 6, Loss: 0.4223\n"
          ]
        },
        {
          "ename": "KeyboardInterrupt",
          "evalue": "",
          "output_type": "error",
          "traceback": [
            "\u001b[1;31m---------------------------------------------------------------------------\u001b[0m",
            "\u001b[1;31mKeyboardInterrupt\u001b[0m                         Traceback (most recent call last)",
            "Cell \u001b[1;32mIn[22], line 3\u001b[0m\n\u001b[0;32m      1\u001b[0m transformerNet\u001b[38;5;241m.\u001b[39mtrain()\n\u001b[0;32m      2\u001b[0m \u001b[38;5;28;01mfor\u001b[39;00m epoch \u001b[38;5;129;01min\u001b[39;00m \u001b[38;5;28mrange\u001b[39m(\u001b[38;5;241m100\u001b[39m):\n\u001b[1;32m----> 3\u001b[0m     \u001b[38;5;28;01mfor\u001b[39;00m i, (img_emb, cap_emb, knn, cap_emb_knn) \u001b[38;5;129;01min\u001b[39;00m \u001b[38;5;28menumerate\u001b[39m(dataloader):\n\u001b[0;32m      4\u001b[0m         batch_size \u001b[38;5;241m=\u001b[39m img_emb\u001b[38;5;241m.\u001b[39msize()[\u001b[38;5;241m0\u001b[39m]\n\u001b[0;32m      5\u001b[0m         img_emb \u001b[38;5;241m=\u001b[39m img_emb\u001b[38;5;241m.\u001b[39mcuda()\u001b[38;5;241m.\u001b[39mreshape((\u001b[38;5;241m-\u001b[39m\u001b[38;5;241m1\u001b[39m,\u001b[38;5;241m1\u001b[39m,\u001b[38;5;241m768\u001b[39m))\n",
            "File \u001b[1;32mc:\\Users\\anand\\AppData\\Local\\Programs\\Python\\Python311\\Lib\\site-packages\\torch\\utils\\data\\dataloader.py:631\u001b[0m, in \u001b[0;36m_BaseDataLoaderIter.__next__\u001b[1;34m(self)\u001b[0m\n\u001b[0;32m    628\u001b[0m \u001b[38;5;28;01mif\u001b[39;00m \u001b[38;5;28mself\u001b[39m\u001b[38;5;241m.\u001b[39m_sampler_iter \u001b[38;5;129;01mis\u001b[39;00m \u001b[38;5;28;01mNone\u001b[39;00m:\n\u001b[0;32m    629\u001b[0m     \u001b[38;5;66;03m# TODO(https://github.com/pytorch/pytorch/issues/76750)\u001b[39;00m\n\u001b[0;32m    630\u001b[0m     \u001b[38;5;28mself\u001b[39m\u001b[38;5;241m.\u001b[39m_reset()  \u001b[38;5;66;03m# type: ignore[call-arg]\u001b[39;00m\n\u001b[1;32m--> 631\u001b[0m data \u001b[38;5;241m=\u001b[39m \u001b[38;5;28;43mself\u001b[39;49m\u001b[38;5;241;43m.\u001b[39;49m\u001b[43m_next_data\u001b[49m\u001b[43m(\u001b[49m\u001b[43m)\u001b[49m\n\u001b[0;32m    632\u001b[0m \u001b[38;5;28mself\u001b[39m\u001b[38;5;241m.\u001b[39m_num_yielded \u001b[38;5;241m+\u001b[39m\u001b[38;5;241m=\u001b[39m \u001b[38;5;241m1\u001b[39m\n\u001b[0;32m    633\u001b[0m \u001b[38;5;28;01mif\u001b[39;00m \u001b[38;5;28mself\u001b[39m\u001b[38;5;241m.\u001b[39m_dataset_kind \u001b[38;5;241m==\u001b[39m _DatasetKind\u001b[38;5;241m.\u001b[39mIterable \u001b[38;5;129;01mand\u001b[39;00m \\\n\u001b[0;32m    634\u001b[0m         \u001b[38;5;28mself\u001b[39m\u001b[38;5;241m.\u001b[39m_IterableDataset_len_called \u001b[38;5;129;01mis\u001b[39;00m \u001b[38;5;129;01mnot\u001b[39;00m \u001b[38;5;28;01mNone\u001b[39;00m \u001b[38;5;129;01mand\u001b[39;00m \\\n\u001b[0;32m    635\u001b[0m         \u001b[38;5;28mself\u001b[39m\u001b[38;5;241m.\u001b[39m_num_yielded \u001b[38;5;241m>\u001b[39m \u001b[38;5;28mself\u001b[39m\u001b[38;5;241m.\u001b[39m_IterableDataset_len_called:\n",
            "File \u001b[1;32mc:\\Users\\anand\\AppData\\Local\\Programs\\Python\\Python311\\Lib\\site-packages\\torch\\utils\\data\\dataloader.py:675\u001b[0m, in \u001b[0;36m_SingleProcessDataLoaderIter._next_data\u001b[1;34m(self)\u001b[0m\n\u001b[0;32m    673\u001b[0m \u001b[38;5;28;01mdef\u001b[39;00m \u001b[38;5;21m_next_data\u001b[39m(\u001b[38;5;28mself\u001b[39m):\n\u001b[0;32m    674\u001b[0m     index \u001b[38;5;241m=\u001b[39m \u001b[38;5;28mself\u001b[39m\u001b[38;5;241m.\u001b[39m_next_index()  \u001b[38;5;66;03m# may raise StopIteration\u001b[39;00m\n\u001b[1;32m--> 675\u001b[0m     data \u001b[38;5;241m=\u001b[39m \u001b[38;5;28;43mself\u001b[39;49m\u001b[38;5;241;43m.\u001b[39;49m\u001b[43m_dataset_fetcher\u001b[49m\u001b[38;5;241;43m.\u001b[39;49m\u001b[43mfetch\u001b[49m\u001b[43m(\u001b[49m\u001b[43mindex\u001b[49m\u001b[43m)\u001b[49m  \u001b[38;5;66;03m# may raise StopIteration\u001b[39;00m\n\u001b[0;32m    676\u001b[0m     \u001b[38;5;28;01mif\u001b[39;00m \u001b[38;5;28mself\u001b[39m\u001b[38;5;241m.\u001b[39m_pin_memory:\n\u001b[0;32m    677\u001b[0m         data \u001b[38;5;241m=\u001b[39m _utils\u001b[38;5;241m.\u001b[39mpin_memory\u001b[38;5;241m.\u001b[39mpin_memory(data, \u001b[38;5;28mself\u001b[39m\u001b[38;5;241m.\u001b[39m_pin_memory_device)\n",
            "File \u001b[1;32mc:\\Users\\anand\\AppData\\Local\\Programs\\Python\\Python311\\Lib\\site-packages\\torch\\utils\\data\\_utils\\fetch.py:51\u001b[0m, in \u001b[0;36m_MapDatasetFetcher.fetch\u001b[1;34m(self, possibly_batched_index)\u001b[0m\n\u001b[0;32m     49\u001b[0m         data \u001b[38;5;241m=\u001b[39m \u001b[38;5;28mself\u001b[39m\u001b[38;5;241m.\u001b[39mdataset\u001b[38;5;241m.\u001b[39m__getitems__(possibly_batched_index)\n\u001b[0;32m     50\u001b[0m     \u001b[38;5;28;01melse\u001b[39;00m:\n\u001b[1;32m---> 51\u001b[0m         data \u001b[38;5;241m=\u001b[39m \u001b[43m[\u001b[49m\u001b[38;5;28;43mself\u001b[39;49m\u001b[38;5;241;43m.\u001b[39;49m\u001b[43mdataset\u001b[49m\u001b[43m[\u001b[49m\u001b[43midx\u001b[49m\u001b[43m]\u001b[49m\u001b[43m \u001b[49m\u001b[38;5;28;43;01mfor\u001b[39;49;00m\u001b[43m \u001b[49m\u001b[43midx\u001b[49m\u001b[43m \u001b[49m\u001b[38;5;129;43;01min\u001b[39;49;00m\u001b[43m \u001b[49m\u001b[43mpossibly_batched_index\u001b[49m\u001b[43m]\u001b[49m\n\u001b[0;32m     52\u001b[0m \u001b[38;5;28;01melse\u001b[39;00m:\n\u001b[0;32m     53\u001b[0m     data \u001b[38;5;241m=\u001b[39m \u001b[38;5;28mself\u001b[39m\u001b[38;5;241m.\u001b[39mdataset[possibly_batched_index]\n",
            "File \u001b[1;32mc:\\Users\\anand\\AppData\\Local\\Programs\\Python\\Python311\\Lib\\site-packages\\torch\\utils\\data\\_utils\\fetch.py:51\u001b[0m, in \u001b[0;36m<listcomp>\u001b[1;34m(.0)\u001b[0m\n\u001b[0;32m     49\u001b[0m         data \u001b[38;5;241m=\u001b[39m \u001b[38;5;28mself\u001b[39m\u001b[38;5;241m.\u001b[39mdataset\u001b[38;5;241m.\u001b[39m__getitems__(possibly_batched_index)\n\u001b[0;32m     50\u001b[0m     \u001b[38;5;28;01melse\u001b[39;00m:\n\u001b[1;32m---> 51\u001b[0m         data \u001b[38;5;241m=\u001b[39m [\u001b[38;5;28;43mself\u001b[39;49m\u001b[38;5;241;43m.\u001b[39;49m\u001b[43mdataset\u001b[49m\u001b[43m[\u001b[49m\u001b[43midx\u001b[49m\u001b[43m]\u001b[49m \u001b[38;5;28;01mfor\u001b[39;00m idx \u001b[38;5;129;01min\u001b[39;00m possibly_batched_index]\n\u001b[0;32m     52\u001b[0m \u001b[38;5;28;01melse\u001b[39;00m:\n\u001b[0;32m     53\u001b[0m     data \u001b[38;5;241m=\u001b[39m \u001b[38;5;28mself\u001b[39m\u001b[38;5;241m.\u001b[39mdataset[possibly_batched_index]\n",
            "Cell \u001b[1;32mIn[3], line 42\u001b[0m, in \u001b[0;36mkNNDataset.__getitem__\u001b[1;34m(self, idx)\u001b[0m\n\u001b[0;32m     40\u001b[0m \u001b[38;5;28;01mdef\u001b[39;00m \u001b[38;5;21m__getitem__\u001b[39m(\u001b[38;5;28mself\u001b[39m, idx):\n\u001b[0;32m     41\u001b[0m     \u001b[38;5;66;03m#img embedding, caption embedding, kNN scores, kNN indices\u001b[39;00m\n\u001b[1;32m---> 42\u001b[0m     \u001b[38;5;28;01mreturn\u001b[39;00m torch\u001b[38;5;241m.\u001b[39mfrom_numpy(\u001b[38;5;28mself\u001b[39m\u001b[38;5;241m.\u001b[39mimg_emb[idx]),torch\u001b[38;5;241m.\u001b[39mfrom_numpy(\u001b[38;5;28mself\u001b[39m\u001b[38;5;241m.\u001b[39mcap_emb[idx]),torch\u001b[38;5;241m.\u001b[39mfrom_numpy(\u001b[38;5;28mself\u001b[39m\u001b[38;5;241m.\u001b[39mkNN[idx][\u001b[38;5;241m0\u001b[39m]),\u001b[43mtorch\u001b[49m\u001b[38;5;241;43m.\u001b[39;49m\u001b[43mfrom_numpy\u001b[49m\u001b[43m(\u001b[49m\u001b[38;5;28;43mself\u001b[39;49m\u001b[38;5;241;43m.\u001b[39;49m\u001b[43mcap_emb\u001b[49m\u001b[43m[\u001b[49m\u001b[38;5;28;43mself\u001b[39;49m\u001b[38;5;241;43m.\u001b[39;49m\u001b[43mkNN\u001b[49m\u001b[43m[\u001b[49m\u001b[43midx\u001b[49m\u001b[43m]\u001b[49m\u001b[43m[\u001b[49m\u001b[38;5;241;43m1\u001b[39;49m\u001b[43m]\u001b[49m\u001b[38;5;241;43m.\u001b[39;49m\u001b[43mastype\u001b[49m\u001b[43m(\u001b[49m\u001b[43mnp\u001b[49m\u001b[38;5;241;43m.\u001b[39;49m\u001b[43mint32\u001b[49m\u001b[43m)\u001b[49m\u001b[43m,\u001b[49m\u001b[43m \u001b[49m\u001b[43m:\u001b[49m\u001b[43m]\u001b[49m\u001b[43m)\u001b[49m\n",
            "\u001b[1;31mKeyboardInterrupt\u001b[0m: "
          ]
        }
      ],
      "source": [
        "transformerNet.train()\n",
        "for epoch in range(100):\n",
        "    for i, (img_emb, cap_emb, knn, cap_emb_knn) in enumerate(dataloader):\n",
        "        batch_size = img_emb.size()[0]\n",
        "        img_emb = img_emb.cuda().reshape((-1,1,768))\n",
        "        cap_emb = cap_emb.cuda()\n",
        "        knn = knn.cuda()\n",
        "        cap_emb_knn = cap_emb_knn.cuda()\n",
        "\n",
        "        transformer_optimizer.zero_grad()\n",
        "        output = transformerNet(torch.cat([img_emb, cap_emb_knn], dim=1))\n",
        "        loss = criterion(output.squeeze(1), cap_emb, torch.ones(batch_size).cuda())\n",
        "        loss.backward()\n",
        "        transformer_optimizer.step()\n",
        "\n",
        "\n",
        "    print(f'Epoch: {epoch+1}, Loss: {loss.item():.4f}')\n",
        "\n",
        "torch.save(transformerNet.state_dict(), 'knn_max_transformer.pt')\n"
      ]
    },
    {
      "cell_type": "code",
      "execution_count": 31,
      "metadata": {},
      "outputs": [
        {
          "name": "stdout",
          "output_type": "stream",
          "text": [
            "Epoch: 1, Loss: 0.1973\n",
            "Epoch: 2, Loss: 0.1907\n",
            "Epoch: 3, Loss: 0.1758\n",
            "Epoch: 4, Loss: 0.1702\n",
            "Epoch: 5, Loss: 0.1676\n",
            "Epoch: 6, Loss: 0.1581\n",
            "Epoch: 7, Loss: 0.1685\n",
            "Epoch: 8, Loss: 0.1640\n",
            "Epoch: 9, Loss: 0.1680\n",
            "Epoch: 10, Loss: 0.1633\n",
            "Epoch: 11, Loss: 0.1474\n",
            "Epoch: 12, Loss: 0.1639\n",
            "Epoch: 13, Loss: 0.1530\n",
            "Epoch: 14, Loss: 0.1554\n",
            "Epoch: 15, Loss: 0.1469\n",
            "Epoch: 16, Loss: 0.1406\n",
            "Epoch: 17, Loss: 0.1321\n",
            "Epoch: 18, Loss: 0.1329\n"
          ]
        },
        {
          "ename": "KeyboardInterrupt",
          "evalue": "",
          "output_type": "error",
          "traceback": [
            "\u001b[1;31m---------------------------------------------------------------------------\u001b[0m",
            "\u001b[1;31mKeyboardInterrupt\u001b[0m                         Traceback (most recent call last)",
            "Cell \u001b[1;32mIn[31], line 5\u001b[0m\n\u001b[0;32m      3\u001b[0m \u001b[38;5;28;01mfor\u001b[39;00m i, (img_emb, cap_emb, knn, cap_emb_knn) \u001b[38;5;129;01min\u001b[39;00m \u001b[38;5;28menumerate\u001b[39m(dataloader):\n\u001b[0;32m      4\u001b[0m     batch_size \u001b[38;5;241m=\u001b[39m img_emb\u001b[38;5;241m.\u001b[39msize()[\u001b[38;5;241m0\u001b[39m]\n\u001b[1;32m----> 5\u001b[0m     img_emb \u001b[38;5;241m=\u001b[39m \u001b[43mimg_emb\u001b[49m\u001b[38;5;241;43m.\u001b[39;49m\u001b[43mcuda\u001b[49m\u001b[43m(\u001b[49m\u001b[43m)\u001b[49m\u001b[38;5;241m.\u001b[39mreshape((\u001b[38;5;241m-\u001b[39m\u001b[38;5;241m1\u001b[39m,\u001b[38;5;241m1\u001b[39m,\u001b[38;5;241m768\u001b[39m))\n\u001b[0;32m      6\u001b[0m     cap_emb \u001b[38;5;241m=\u001b[39m cap_emb\u001b[38;5;241m.\u001b[39mcuda()\n\u001b[0;32m      7\u001b[0m     knn \u001b[38;5;241m=\u001b[39m knn\u001b[38;5;241m.\u001b[39mcuda()\n",
            "\u001b[1;31mKeyboardInterrupt\u001b[0m: "
          ]
        }
      ],
      "source": [
        "selfTransformerNet.train()\n",
        "for epoch in range(100):\n",
        "    for i, (img_emb, cap_emb, knn, cap_emb_knn) in enumerate(dataloader):\n",
        "        batch_size = img_emb.size()[0]\n",
        "        img_emb = img_emb.cuda().reshape((-1,1,768))\n",
        "        cap_emb = cap_emb.cuda()\n",
        "        knn = knn.cuda()\n",
        "        cap_emb_knn = cap_emb_knn.cuda()\n",
        "\n",
        "        self_transformer_optimizer.zero_grad()\n",
        "        output = selfTransformerNet(torch.cat([img_emb, cap_emb_knn], dim=1))\n",
        "        loss = criterion(output[:,0,:], cap_emb, torch.ones(batch_size).cuda())\n",
        "        loss.backward()\n",
        "        self_transformer_optimizer.step()\n",
        "\n",
        "\n",
        "    print(f'Epoch: {epoch+1}, Loss: {loss.item():.4f}')\n",
        "\n",
        "torch.save(transformerNet.state_dict(), 'knn_max_transformer.pt')"
      ]
    },
    {
      "cell_type": "markdown",
      "metadata": {},
      "source": [
        "# Decoding and Evaluation"
      ]
    },
    {
      "cell_type": "code",
      "execution_count": 7,
      "metadata": {},
      "outputs": [],
      "source": [
        "import open_clip\n",
        "import numpy as np\n",
        "import torch\n",
        "from pycocotools.coco import COCO\n",
        "from pycocoevalcap.eval import COCOEvalCap\n",
        "import json"
      ]
    },
    {
      "cell_type": "code",
      "execution_count": null,
      "metadata": {},
      "outputs": [],
      "source": [
        "model, _, transform = open_clip.create_model_and_transforms(\n",
        "  model_name=\"coca_ViT-L-14\",\n",
        "  pretrained=\"mscoco_finetuned_laion2B-s13B-b90k\"\n",
        ")\n",
        "\n",
        "tokenizer = open_clip.get_tokenizer('coca_ViT-L-14')"
      ]
    },
    {
      "cell_type": "code",
      "execution_count": null,
      "metadata": {},
      "outputs": [],
      "source": [
        "model.generate"
      ]
    },
    {
      "cell_type": "code",
      "execution_count": null,
      "metadata": {},
      "outputs": [],
      "source": [
        "def get_decoded_text(image_path, embedding, model, transform):\n",
        "    img = Image.open(image_path).convert(\"RGB\")\n",
        "    img = transform(img).unsqueeze(0)\n",
        "\n",
        "    with torch.no_grad(), torch.cuda.amp.autocast():\n",
        "        text = model.generate(img, image_embs=embedding)\n",
        "    \n",
        "    text = open_clip.decode(text[0]).split(\"<end_of_text>\")[0].replace(\"<start_of_text>\", \"\")\n",
        "    return text"
      ]
    },
    {
      "cell_type": "code",
      "execution_count": 8,
      "metadata": {},
      "outputs": [],
      "source": [
        "annotation_file = 'annotations_trainval2014/annotations/captions_val2014.json'\n",
        "results_file = 'results.json'\n",
        "f = open(annotation_file)\n",
        "data = json.load(f)"
      ]
    },
    {
      "cell_type": "code",
      "execution_count": 9,
      "metadata": {},
      "outputs": [],
      "source": [
        "dict_filename = {}\n",
        "for image in data['images']:\n",
        "  dict_filename[image['file_name']] = image['id']"
      ]
    },
    {
      "cell_type": "code",
      "execution_count": null,
      "metadata": {},
      "outputs": [],
      "source": [
        "#json\n",
        "dict_list = []\n",
        "root = \"val2014/val2014/\"\n",
        "for img_path in glob.glob(root + \"*\"):\n",
        "    image_name = img_path.split('/')[-1]\n",
        "    embedding = val_results[image_name]\n",
        "\n",
        "    text = get_decoded_text(root + image_name, embedding, model, transform)\n",
        "\n",
        "    dict_list.append({ \"image_id\": dict_filename[image_name], \"caption\": text})\n",
        "\n",
        "with open(results_file, 'w') as f:\n",
        "    json.dump(dict_list, f)"
      ]
    },
    {
      "cell_type": "code",
      "execution_count": null,
      "metadata": {},
      "outputs": [],
      "source": [
        "#calculate coco\n",
        "# create coco object and coco_result object\n",
        "coco = COCO(annotation_file)\n",
        "coco_result = coco.loadRes(results_file)\n",
        "\n",
        "# create coco_eval object by taking coco and coco_result\n",
        "coco_eval = COCOEvalCap(coco, coco_result)\n",
        "\n",
        "# evaluate on a subset of images by setting\n",
        "# coco_eval.params['image_id'] = coco_result.getImgIds()\n",
        "# please remove this line when evaluating the full validation set\n",
        "coco_eval.params['image_id'] = coco_result.getImgIds()\n",
        "\n",
        "# evaluate results\n",
        "# SPICE will take a few minutes the first time, but speeds up due to caching\n",
        "coco_eval.evaluate()\n",
        "\n",
        "# print output evaluation scores\n",
        "for metric, score in coco_eval.eval.items():\n",
        "    print(f'{metric}: {score:.3f}')"
      ]
    }
  ],
  "metadata": {
    "accelerator": "GPU",
    "colab": {
      "gpuType": "T4",
      "provenance": []
    },
    "kernelspec": {
      "display_name": "Python 3",
      "name": "python3"
    },
    "language_info": {
      "codemirror_mode": {
        "name": "ipython",
        "version": 3
      },
      "file_extension": ".py",
      "mimetype": "text/x-python",
      "name": "python",
      "nbconvert_exporter": "python",
      "pygments_lexer": "ipython3",
      "version": "undefined.undefined.undefined"
    },
    "widgets": {
      "application/vnd.jupyter.widget-state+json": {
        "0417312dcd29476fa5a31b920c5857d8": {
          "model_module": "@jupyter-widgets/controls",
          "model_module_version": "1.5.0",
          "model_name": "DescriptionStyleModel",
          "state": {
            "_model_module": "@jupyter-widgets/controls",
            "_model_module_version": "1.5.0",
            "_model_name": "DescriptionStyleModel",
            "_view_count": null,
            "_view_module": "@jupyter-widgets/base",
            "_view_module_version": "1.2.0",
            "_view_name": "StyleView",
            "description_width": ""
          }
        },
        "0897f1d748f54934b32b14f0607c5c87": {
          "model_module": "@jupyter-widgets/base",
          "model_module_version": "1.2.0",
          "model_name": "LayoutModel",
          "state": {
            "_model_module": "@jupyter-widgets/base",
            "_model_module_version": "1.2.0",
            "_model_name": "LayoutModel",
            "_view_count": null,
            "_view_module": "@jupyter-widgets/base",
            "_view_module_version": "1.2.0",
            "_view_name": "LayoutView",
            "align_content": null,
            "align_items": null,
            "align_self": null,
            "border": null,
            "bottom": null,
            "display": null,
            "flex": null,
            "flex_flow": null,
            "grid_area": null,
            "grid_auto_columns": null,
            "grid_auto_flow": null,
            "grid_auto_rows": null,
            "grid_column": null,
            "grid_gap": null,
            "grid_row": null,
            "grid_template_areas": null,
            "grid_template_columns": null,
            "grid_template_rows": null,
            "height": null,
            "justify_content": null,
            "justify_items": null,
            "left": null,
            "margin": null,
            "max_height": null,
            "max_width": null,
            "min_height": null,
            "min_width": null,
            "object_fit": null,
            "object_position": null,
            "order": null,
            "overflow": null,
            "overflow_x": null,
            "overflow_y": null,
            "padding": null,
            "right": null,
            "top": null,
            "visibility": null,
            "width": null
          }
        },
        "291be208a8604d8c9f521d426ecdd7e2": {
          "model_module": "@jupyter-widgets/controls",
          "model_module_version": "1.5.0",
          "model_name": "HTMLModel",
          "state": {
            "_dom_classes": [],
            "_model_module": "@jupyter-widgets/controls",
            "_model_module_version": "1.5.0",
            "_model_name": "HTMLModel",
            "_view_count": null,
            "_view_module": "@jupyter-widgets/controls",
            "_view_module_version": "1.5.0",
            "_view_name": "HTMLView",
            "description": "",
            "description_tooltip": null,
            "layout": "IPY_MODEL_8546116ba11a49ab89bb1d74c92b5457",
            "placeholder": "​",
            "style": "IPY_MODEL_86866cc0214d4f2291093ea38dab6b82",
            "value": "100%"
          }
        },
        "3f8bdf05e37a4aa4be1f310961168c3e": {
          "model_module": "@jupyter-widgets/controls",
          "model_module_version": "1.5.0",
          "model_name": "HBoxModel",
          "state": {
            "_dom_classes": [],
            "_model_module": "@jupyter-widgets/controls",
            "_model_module_version": "1.5.0",
            "_model_name": "HBoxModel",
            "_view_count": null,
            "_view_module": "@jupyter-widgets/controls",
            "_view_module_version": "1.5.0",
            "_view_name": "HBoxView",
            "box_style": "",
            "children": [
              "IPY_MODEL_291be208a8604d8c9f521d426ecdd7e2",
              "IPY_MODEL_7e11c0a67802474390367910a2421eab",
              "IPY_MODEL_56571f089a7a474fa831b1ff5d847eba"
            ],
            "layout": "IPY_MODEL_f0790ddd08b54f2e9d8978dfb7f925bf"
          }
        },
        "443766238f454b4f93770e12f17f7c3d": {
          "model_module": "@jupyter-widgets/base",
          "model_module_version": "1.2.0",
          "model_name": "LayoutModel",
          "state": {
            "_model_module": "@jupyter-widgets/base",
            "_model_module_version": "1.2.0",
            "_model_name": "LayoutModel",
            "_view_count": null,
            "_view_module": "@jupyter-widgets/base",
            "_view_module_version": "1.2.0",
            "_view_name": "LayoutView",
            "align_content": null,
            "align_items": null,
            "align_self": null,
            "border": null,
            "bottom": null,
            "display": null,
            "flex": null,
            "flex_flow": null,
            "grid_area": null,
            "grid_auto_columns": null,
            "grid_auto_flow": null,
            "grid_auto_rows": null,
            "grid_column": null,
            "grid_gap": null,
            "grid_row": null,
            "grid_template_areas": null,
            "grid_template_columns": null,
            "grid_template_rows": null,
            "height": null,
            "justify_content": null,
            "justify_items": null,
            "left": null,
            "margin": null,
            "max_height": null,
            "max_width": null,
            "min_height": null,
            "min_width": null,
            "object_fit": null,
            "object_position": null,
            "order": null,
            "overflow": null,
            "overflow_x": null,
            "overflow_y": null,
            "padding": null,
            "right": null,
            "top": null,
            "visibility": null,
            "width": null
          }
        },
        "56571f089a7a474fa831b1ff5d847eba": {
          "model_module": "@jupyter-widgets/controls",
          "model_module_version": "1.5.0",
          "model_name": "HTMLModel",
          "state": {
            "_dom_classes": [],
            "_model_module": "@jupyter-widgets/controls",
            "_model_module_version": "1.5.0",
            "_model_name": "HTMLModel",
            "_view_count": null,
            "_view_module": "@jupyter-widgets/controls",
            "_view_module_version": "1.5.0",
            "_view_name": "HTMLView",
            "description": "",
            "description_tooltip": null,
            "layout": "IPY_MODEL_f5ba898a87f64606b24d92e55bcf3879",
            "placeholder": "​",
            "style": "IPY_MODEL_0417312dcd29476fa5a31b920c5857d8",
            "value": " 414113/414113 [00:00&lt;00:00, 540903.67it/s]"
          }
        },
        "7e11c0a67802474390367910a2421eab": {
          "model_module": "@jupyter-widgets/controls",
          "model_module_version": "1.5.0",
          "model_name": "FloatProgressModel",
          "state": {
            "_dom_classes": [],
            "_model_module": "@jupyter-widgets/controls",
            "_model_module_version": "1.5.0",
            "_model_name": "FloatProgressModel",
            "_view_count": null,
            "_view_module": "@jupyter-widgets/controls",
            "_view_module_version": "1.5.0",
            "_view_name": "ProgressView",
            "bar_style": "success",
            "description": "",
            "description_tooltip": null,
            "layout": "IPY_MODEL_a01abbc5bb1b4a60a2eda8d2b191e1c5",
            "max": 414113,
            "min": 0,
            "orientation": "horizontal",
            "style": "IPY_MODEL_f1c932e9b367421db00b7aa1315e9f23",
            "value": 414113
          }
        },
        "8546116ba11a49ab89bb1d74c92b5457": {
          "model_module": "@jupyter-widgets/base",
          "model_module_version": "1.2.0",
          "model_name": "LayoutModel",
          "state": {
            "_model_module": "@jupyter-widgets/base",
            "_model_module_version": "1.2.0",
            "_model_name": "LayoutModel",
            "_view_count": null,
            "_view_module": "@jupyter-widgets/base",
            "_view_module_version": "1.2.0",
            "_view_name": "LayoutView",
            "align_content": null,
            "align_items": null,
            "align_self": null,
            "border": null,
            "bottom": null,
            "display": null,
            "flex": null,
            "flex_flow": null,
            "grid_area": null,
            "grid_auto_columns": null,
            "grid_auto_flow": null,
            "grid_auto_rows": null,
            "grid_column": null,
            "grid_gap": null,
            "grid_row": null,
            "grid_template_areas": null,
            "grid_template_columns": null,
            "grid_template_rows": null,
            "height": null,
            "justify_content": null,
            "justify_items": null,
            "left": null,
            "margin": null,
            "max_height": null,
            "max_width": null,
            "min_height": null,
            "min_width": null,
            "object_fit": null,
            "object_position": null,
            "order": null,
            "overflow": null,
            "overflow_x": null,
            "overflow_y": null,
            "padding": null,
            "right": null,
            "top": null,
            "visibility": null,
            "width": null
          }
        },
        "86866cc0214d4f2291093ea38dab6b82": {
          "model_module": "@jupyter-widgets/controls",
          "model_module_version": "1.5.0",
          "model_name": "DescriptionStyleModel",
          "state": {
            "_model_module": "@jupyter-widgets/controls",
            "_model_module_version": "1.5.0",
            "_model_name": "DescriptionStyleModel",
            "_view_count": null,
            "_view_module": "@jupyter-widgets/base",
            "_view_module_version": "1.2.0",
            "_view_name": "StyleView",
            "description_width": ""
          }
        },
        "88d72be76b644615a12f361dc364e45a": {
          "model_module": "@jupyter-widgets/base",
          "model_module_version": "1.2.0",
          "model_name": "LayoutModel",
          "state": {
            "_model_module": "@jupyter-widgets/base",
            "_model_module_version": "1.2.0",
            "_model_name": "LayoutModel",
            "_view_count": null,
            "_view_module": "@jupyter-widgets/base",
            "_view_module_version": "1.2.0",
            "_view_name": "LayoutView",
            "align_content": null,
            "align_items": null,
            "align_self": null,
            "border": null,
            "bottom": null,
            "display": null,
            "flex": null,
            "flex_flow": null,
            "grid_area": null,
            "grid_auto_columns": null,
            "grid_auto_flow": null,
            "grid_auto_rows": null,
            "grid_column": null,
            "grid_gap": null,
            "grid_row": null,
            "grid_template_areas": null,
            "grid_template_columns": null,
            "grid_template_rows": null,
            "height": null,
            "justify_content": null,
            "justify_items": null,
            "left": null,
            "margin": null,
            "max_height": null,
            "max_width": null,
            "min_height": null,
            "min_width": null,
            "object_fit": null,
            "object_position": null,
            "order": null,
            "overflow": null,
            "overflow_x": null,
            "overflow_y": null,
            "padding": null,
            "right": null,
            "top": null,
            "visibility": null,
            "width": null
          }
        },
        "972009fc2b1a41ac946f5f5d634df8cb": {
          "model_module": "@jupyter-widgets/base",
          "model_module_version": "1.2.0",
          "model_name": "LayoutModel",
          "state": {
            "_model_module": "@jupyter-widgets/base",
            "_model_module_version": "1.2.0",
            "_model_name": "LayoutModel",
            "_view_count": null,
            "_view_module": "@jupyter-widgets/base",
            "_view_module_version": "1.2.0",
            "_view_name": "LayoutView",
            "align_content": null,
            "align_items": null,
            "align_self": null,
            "border": null,
            "bottom": null,
            "display": null,
            "flex": null,
            "flex_flow": null,
            "grid_area": null,
            "grid_auto_columns": null,
            "grid_auto_flow": null,
            "grid_auto_rows": null,
            "grid_column": null,
            "grid_gap": null,
            "grid_row": null,
            "grid_template_areas": null,
            "grid_template_columns": null,
            "grid_template_rows": null,
            "height": null,
            "justify_content": null,
            "justify_items": null,
            "left": null,
            "margin": null,
            "max_height": null,
            "max_width": null,
            "min_height": null,
            "min_width": null,
            "object_fit": null,
            "object_position": null,
            "order": null,
            "overflow": null,
            "overflow_x": null,
            "overflow_y": null,
            "padding": null,
            "right": null,
            "top": null,
            "visibility": null,
            "width": null
          }
        },
        "9eab4421648e4f02af1b47f24e1c3383": {
          "model_module": "@jupyter-widgets/controls",
          "model_module_version": "1.5.0",
          "model_name": "HTMLModel",
          "state": {
            "_dom_classes": [],
            "_model_module": "@jupyter-widgets/controls",
            "_model_module_version": "1.5.0",
            "_model_name": "HTMLModel",
            "_view_count": null,
            "_view_module": "@jupyter-widgets/controls",
            "_view_module_version": "1.5.0",
            "_view_name": "HTMLView",
            "description": "",
            "description_tooltip": null,
            "layout": "IPY_MODEL_88d72be76b644615a12f361dc364e45a",
            "placeholder": "​",
            "style": "IPY_MODEL_e724fd6ab84b41fda9e7e1563857f32e",
            "value": " 4/82783 [00:27&lt;156:27:04,  6.80s/it]"
          }
        },
        "9f9465ef83934013b5664489121b24e7": {
          "model_module": "@jupyter-widgets/controls",
          "model_module_version": "1.5.0",
          "model_name": "ProgressStyleModel",
          "state": {
            "_model_module": "@jupyter-widgets/controls",
            "_model_module_version": "1.5.0",
            "_model_name": "ProgressStyleModel",
            "_view_count": null,
            "_view_module": "@jupyter-widgets/base",
            "_view_module_version": "1.2.0",
            "_view_name": "StyleView",
            "bar_color": null,
            "description_width": ""
          }
        },
        "a01abbc5bb1b4a60a2eda8d2b191e1c5": {
          "model_module": "@jupyter-widgets/base",
          "model_module_version": "1.2.0",
          "model_name": "LayoutModel",
          "state": {
            "_model_module": "@jupyter-widgets/base",
            "_model_module_version": "1.2.0",
            "_model_name": "LayoutModel",
            "_view_count": null,
            "_view_module": "@jupyter-widgets/base",
            "_view_module_version": "1.2.0",
            "_view_name": "LayoutView",
            "align_content": null,
            "align_items": null,
            "align_self": null,
            "border": null,
            "bottom": null,
            "display": null,
            "flex": null,
            "flex_flow": null,
            "grid_area": null,
            "grid_auto_columns": null,
            "grid_auto_flow": null,
            "grid_auto_rows": null,
            "grid_column": null,
            "grid_gap": null,
            "grid_row": null,
            "grid_template_areas": null,
            "grid_template_columns": null,
            "grid_template_rows": null,
            "height": null,
            "justify_content": null,
            "justify_items": null,
            "left": null,
            "margin": null,
            "max_height": null,
            "max_width": null,
            "min_height": null,
            "min_width": null,
            "object_fit": null,
            "object_position": null,
            "order": null,
            "overflow": null,
            "overflow_x": null,
            "overflow_y": null,
            "padding": null,
            "right": null,
            "top": null,
            "visibility": null,
            "width": null
          }
        },
        "b623980240ab4f65b4825246005ad6f0": {
          "model_module": "@jupyter-widgets/controls",
          "model_module_version": "1.5.0",
          "model_name": "DescriptionStyleModel",
          "state": {
            "_model_module": "@jupyter-widgets/controls",
            "_model_module_version": "1.5.0",
            "_model_name": "DescriptionStyleModel",
            "_view_count": null,
            "_view_module": "@jupyter-widgets/base",
            "_view_module_version": "1.2.0",
            "_view_name": "StyleView",
            "description_width": ""
          }
        },
        "b6fa2edba86443e0bb7d5f8d96f1f70c": {
          "model_module": "@jupyter-widgets/controls",
          "model_module_version": "1.5.0",
          "model_name": "HBoxModel",
          "state": {
            "_dom_classes": [],
            "_model_module": "@jupyter-widgets/controls",
            "_model_module_version": "1.5.0",
            "_model_name": "HBoxModel",
            "_view_count": null,
            "_view_module": "@jupyter-widgets/controls",
            "_view_module_version": "1.5.0",
            "_view_name": "HBoxView",
            "box_style": "",
            "children": [
              "IPY_MODEL_b83875f52a814f109f289dc31705d5b6",
              "IPY_MODEL_fe0b3e08c7d04a6faaf19c7fdb4ffa02",
              "IPY_MODEL_9eab4421648e4f02af1b47f24e1c3383"
            ],
            "layout": "IPY_MODEL_0897f1d748f54934b32b14f0607c5c87"
          }
        },
        "b83875f52a814f109f289dc31705d5b6": {
          "model_module": "@jupyter-widgets/controls",
          "model_module_version": "1.5.0",
          "model_name": "HTMLModel",
          "state": {
            "_dom_classes": [],
            "_model_module": "@jupyter-widgets/controls",
            "_model_module_version": "1.5.0",
            "_model_name": "HTMLModel",
            "_view_count": null,
            "_view_module": "@jupyter-widgets/controls",
            "_view_module_version": "1.5.0",
            "_view_name": "HTMLView",
            "description": "",
            "description_tooltip": null,
            "layout": "IPY_MODEL_443766238f454b4f93770e12f17f7c3d",
            "placeholder": "​",
            "style": "IPY_MODEL_b623980240ab4f65b4825246005ad6f0",
            "value": "  0%"
          }
        },
        "e724fd6ab84b41fda9e7e1563857f32e": {
          "model_module": "@jupyter-widgets/controls",
          "model_module_version": "1.5.0",
          "model_name": "DescriptionStyleModel",
          "state": {
            "_model_module": "@jupyter-widgets/controls",
            "_model_module_version": "1.5.0",
            "_model_name": "DescriptionStyleModel",
            "_view_count": null,
            "_view_module": "@jupyter-widgets/base",
            "_view_module_version": "1.2.0",
            "_view_name": "StyleView",
            "description_width": ""
          }
        },
        "f0790ddd08b54f2e9d8978dfb7f925bf": {
          "model_module": "@jupyter-widgets/base",
          "model_module_version": "1.2.0",
          "model_name": "LayoutModel",
          "state": {
            "_model_module": "@jupyter-widgets/base",
            "_model_module_version": "1.2.0",
            "_model_name": "LayoutModel",
            "_view_count": null,
            "_view_module": "@jupyter-widgets/base",
            "_view_module_version": "1.2.0",
            "_view_name": "LayoutView",
            "align_content": null,
            "align_items": null,
            "align_self": null,
            "border": null,
            "bottom": null,
            "display": null,
            "flex": null,
            "flex_flow": null,
            "grid_area": null,
            "grid_auto_columns": null,
            "grid_auto_flow": null,
            "grid_auto_rows": null,
            "grid_column": null,
            "grid_gap": null,
            "grid_row": null,
            "grid_template_areas": null,
            "grid_template_columns": null,
            "grid_template_rows": null,
            "height": null,
            "justify_content": null,
            "justify_items": null,
            "left": null,
            "margin": null,
            "max_height": null,
            "max_width": null,
            "min_height": null,
            "min_width": null,
            "object_fit": null,
            "object_position": null,
            "order": null,
            "overflow": null,
            "overflow_x": null,
            "overflow_y": null,
            "padding": null,
            "right": null,
            "top": null,
            "visibility": null,
            "width": null
          }
        },
        "f1c932e9b367421db00b7aa1315e9f23": {
          "model_module": "@jupyter-widgets/controls",
          "model_module_version": "1.5.0",
          "model_name": "ProgressStyleModel",
          "state": {
            "_model_module": "@jupyter-widgets/controls",
            "_model_module_version": "1.5.0",
            "_model_name": "ProgressStyleModel",
            "_view_count": null,
            "_view_module": "@jupyter-widgets/base",
            "_view_module_version": "1.2.0",
            "_view_name": "StyleView",
            "bar_color": null,
            "description_width": ""
          }
        },
        "f5ba898a87f64606b24d92e55bcf3879": {
          "model_module": "@jupyter-widgets/base",
          "model_module_version": "1.2.0",
          "model_name": "LayoutModel",
          "state": {
            "_model_module": "@jupyter-widgets/base",
            "_model_module_version": "1.2.0",
            "_model_name": "LayoutModel",
            "_view_count": null,
            "_view_module": "@jupyter-widgets/base",
            "_view_module_version": "1.2.0",
            "_view_name": "LayoutView",
            "align_content": null,
            "align_items": null,
            "align_self": null,
            "border": null,
            "bottom": null,
            "display": null,
            "flex": null,
            "flex_flow": null,
            "grid_area": null,
            "grid_auto_columns": null,
            "grid_auto_flow": null,
            "grid_auto_rows": null,
            "grid_column": null,
            "grid_gap": null,
            "grid_row": null,
            "grid_template_areas": null,
            "grid_template_columns": null,
            "grid_template_rows": null,
            "height": null,
            "justify_content": null,
            "justify_items": null,
            "left": null,
            "margin": null,
            "max_height": null,
            "max_width": null,
            "min_height": null,
            "min_width": null,
            "object_fit": null,
            "object_position": null,
            "order": null,
            "overflow": null,
            "overflow_x": null,
            "overflow_y": null,
            "padding": null,
            "right": null,
            "top": null,
            "visibility": null,
            "width": null
          }
        },
        "fe0b3e08c7d04a6faaf19c7fdb4ffa02": {
          "model_module": "@jupyter-widgets/controls",
          "model_module_version": "1.5.0",
          "model_name": "FloatProgressModel",
          "state": {
            "_dom_classes": [],
            "_model_module": "@jupyter-widgets/controls",
            "_model_module_version": "1.5.0",
            "_model_name": "FloatProgressModel",
            "_view_count": null,
            "_view_module": "@jupyter-widgets/controls",
            "_view_module_version": "1.5.0",
            "_view_name": "ProgressView",
            "bar_style": "",
            "description": "",
            "description_tooltip": null,
            "layout": "IPY_MODEL_972009fc2b1a41ac946f5f5d634df8cb",
            "max": 82783,
            "min": 0,
            "orientation": "horizontal",
            "style": "IPY_MODEL_9f9465ef83934013b5664489121b24e7",
            "value": 4
          }
        }
      }
    }
  },
  "nbformat": 4,
  "nbformat_minor": 0
}
